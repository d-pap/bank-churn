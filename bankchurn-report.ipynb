{
 "cells": [
  {
   "attachments": {},
   "cell_type": "markdown",
   "metadata": {},
   "source": [
    "# Introduction\n",
    "\n",
    "In this project, I will be predicting the churn for customers at ABC Multinational Bank. I will start by performing exploratory data analysis to attempt to find any patterns and identify what features might be the biggest drivers of churn. Next, I will perform data preprocessing to prepare the data for modeling. I will then test out a few different models and select the best one to use for predicting churn. Finally, I will generate a list of customers who are at risk of churning. These customers can then be targeted with marketing campaigns to try to retain them.\n",
    "\n",
    "*Also see the business report for this project: https://medium.com/@dpapcodes/investigating-why-customers-leave-a-bank-47b41278e36c*\n",
    "\n",
    "**Dataset Information**\n",
    "\n",
    "The dataset was obtained from Kaggle (https://www.kaggle.com/datasets/gauravtopre/bank-customer-churn-dataset) and includes 12 columns and 10,000 rows, where each row represents a customer. The dataset includes the following columns: customer_id (numerical, a unique ID given to identify each customer), credit_score (numerical, a score that identifies the creditworthiness of a customer), country (categorical, represents the country where the customer is located - it can be one of three countries: Spain, Germany, or France), gender (categorical, represents the customer's gender), age (numerical, represents the customer's age), tenure (numerical, representing how long the customer has been at the bank given in years), balance (numerical, representing the amount of USD the customer has at the bank), products_number (numerical, representing the number of products the customer has at the bank), credit_card (is a binary categorical variable, representing if the customer has a credit card at the bank or not - 0 = no, 1 = yes), active_member (is a binary categorical variable, representing if the customer is an active member at the bank), estimated_salary (numerical, representing the estimated total income of the customer in USD), and churn (used as the target variable, is a binary categorical variable and represents if the customer has left the bank during some period of time - 0 = they have not, 1 = they have).\n"
   ]
  },
  {
   "attachments": {},
   "cell_type": "markdown",
   "metadata": {},
   "source": [
    "# Load Data"
   ]
  },
  {
   "cell_type": "code",
   "execution_count": 1,
   "metadata": {
    "is_executing": true
   },
   "outputs": [],
   "source": [
    "import pandas as pd\n",
    "import numpy as np\n",
    "import seaborn as sns\n",
    "import matplotlib.pyplot as plt\n",
    "\n",
    "from sklearn.compose import ColumnTransformer\n",
    "from sklearn.pipeline import Pipeline\n",
    "from sklearn.preprocessing import StandardScaler, OneHotEncoder\n",
    "from sklearn.model_selection import train_test_split\n",
    "from sklearn.ensemble import RandomForestClassifier\n",
    "from sklearn.linear_model import LogisticRegression\n",
    "from sklearn.svm import SVC\n",
    "from sklearn.metrics import accuracy_score, classification_report, confusion_matrix, roc_auc_score\n"
   ]
  },
  {
   "cell_type": "code",
   "execution_count": 2,
   "metadata": {},
   "outputs": [],
   "source": [
    "df = pd.read_csv('customers.csv')"
   ]
  },
  {
   "cell_type": "code",
   "execution_count": 3,
   "metadata": {},
   "outputs": [
    {
     "data": {
      "text/html": [
       "<div>\n",
       "<style scoped>\n",
       "    .dataframe tbody tr th:only-of-type {\n",
       "        vertical-align: middle;\n",
       "    }\n",
       "\n",
       "    .dataframe tbody tr th {\n",
       "        vertical-align: top;\n",
       "    }\n",
       "\n",
       "    .dataframe thead th {\n",
       "        text-align: right;\n",
       "    }\n",
       "</style>\n",
       "<table border=\"1\" class=\"dataframe\">\n",
       "  <thead>\n",
       "    <tr style=\"text-align: right;\">\n",
       "      <th></th>\n",
       "      <th>customer_id</th>\n",
       "      <th>credit_score</th>\n",
       "      <th>country</th>\n",
       "      <th>gender</th>\n",
       "      <th>age</th>\n",
       "      <th>tenure</th>\n",
       "      <th>balance</th>\n",
       "      <th>products_number</th>\n",
       "      <th>credit_card</th>\n",
       "      <th>active_member</th>\n",
       "      <th>estimated_salary</th>\n",
       "      <th>churn</th>\n",
       "    </tr>\n",
       "  </thead>\n",
       "  <tbody>\n",
       "    <tr>\n",
       "      <th>0</th>\n",
       "      <td>15634602</td>\n",
       "      <td>619</td>\n",
       "      <td>France</td>\n",
       "      <td>Female</td>\n",
       "      <td>42</td>\n",
       "      <td>2</td>\n",
       "      <td>0.00</td>\n",
       "      <td>1</td>\n",
       "      <td>1</td>\n",
       "      <td>1</td>\n",
       "      <td>101348.88</td>\n",
       "      <td>1</td>\n",
       "    </tr>\n",
       "    <tr>\n",
       "      <th>1</th>\n",
       "      <td>15647311</td>\n",
       "      <td>608</td>\n",
       "      <td>Spain</td>\n",
       "      <td>Female</td>\n",
       "      <td>41</td>\n",
       "      <td>1</td>\n",
       "      <td>83807.86</td>\n",
       "      <td>1</td>\n",
       "      <td>0</td>\n",
       "      <td>1</td>\n",
       "      <td>112542.58</td>\n",
       "      <td>0</td>\n",
       "    </tr>\n",
       "    <tr>\n",
       "      <th>2</th>\n",
       "      <td>15619304</td>\n",
       "      <td>502</td>\n",
       "      <td>France</td>\n",
       "      <td>Female</td>\n",
       "      <td>42</td>\n",
       "      <td>8</td>\n",
       "      <td>159660.80</td>\n",
       "      <td>3</td>\n",
       "      <td>1</td>\n",
       "      <td>0</td>\n",
       "      <td>113931.57</td>\n",
       "      <td>1</td>\n",
       "    </tr>\n",
       "    <tr>\n",
       "      <th>3</th>\n",
       "      <td>15701354</td>\n",
       "      <td>699</td>\n",
       "      <td>France</td>\n",
       "      <td>Female</td>\n",
       "      <td>39</td>\n",
       "      <td>1</td>\n",
       "      <td>0.00</td>\n",
       "      <td>2</td>\n",
       "      <td>0</td>\n",
       "      <td>0</td>\n",
       "      <td>93826.63</td>\n",
       "      <td>0</td>\n",
       "    </tr>\n",
       "    <tr>\n",
       "      <th>4</th>\n",
       "      <td>15737888</td>\n",
       "      <td>850</td>\n",
       "      <td>Spain</td>\n",
       "      <td>Female</td>\n",
       "      <td>43</td>\n",
       "      <td>2</td>\n",
       "      <td>125510.82</td>\n",
       "      <td>1</td>\n",
       "      <td>1</td>\n",
       "      <td>1</td>\n",
       "      <td>79084.10</td>\n",
       "      <td>0</td>\n",
       "    </tr>\n",
       "  </tbody>\n",
       "</table>\n",
       "</div>"
      ],
      "text/plain": [
       "   customer_id  credit_score country  gender  age  tenure    balance  \\\n",
       "0     15634602           619  France  Female   42       2       0.00   \n",
       "1     15647311           608   Spain  Female   41       1   83807.86   \n",
       "2     15619304           502  France  Female   42       8  159660.80   \n",
       "3     15701354           699  France  Female   39       1       0.00   \n",
       "4     15737888           850   Spain  Female   43       2  125510.82   \n",
       "\n",
       "   products_number  credit_card  active_member  estimated_salary  churn  \n",
       "0                1            1              1         101348.88      1  \n",
       "1                1            0              1         112542.58      0  \n",
       "2                3            1              0         113931.57      1  \n",
       "3                2            0              0          93826.63      0  \n",
       "4                1            1              1          79084.10      0  "
      ]
     },
     "execution_count": 3,
     "metadata": {},
     "output_type": "execute_result"
    }
   ],
   "source": [
    "df.head()"
   ]
  },
  {
   "attachments": {},
   "cell_type": "markdown",
   "metadata": {},
   "source": [
    "# EDA\n",
    "The main objectives in this section is to better understand the customers and their behavior and create new features that might be useful for modeling.\n",
    "\n",
    "**Customer Churn in the Banking Industry**\n",
    "\n",
    "Per Customer Gauge, the average churn rate among all industries is 21%, but in the financial industry, the churn rate is 25% and is the highest among all industries (Howarth, 2022). This means that 1 in 4 customers will leave their bank. This is a huge problem for banks because it costs 5 times more to acquire a new customer than to retain an existing one. It was also found that 56% of customers who left say the bank could have changed their mind (Gardner, 2019). Therefore, it is important for banks to identify customers who are at risk of churning and target them with marketing campaigns to try to retain them."
   ]
  },
  {
   "cell_type": "code",
   "execution_count": 4,
   "metadata": {},
   "outputs": [
    {
     "name": "stdout",
     "output_type": "stream",
     "text": [
      "***** BASIC EDA *****\n",
      "\n",
      "DATA SHAPE: (10000, 12)\n",
      "\n",
      "NUMBER OF DUPLICATES: 0\n",
      "\n",
      "MISSING VALUE COUNTS:\n",
      "customer_id         0\n",
      "credit_score        0\n",
      "country             0\n",
      "gender              0\n",
      "age                 0\n",
      "tenure              0\n",
      "balance             0\n",
      "products_number     0\n",
      "credit_card         0\n",
      "active_member       0\n",
      "estimated_salary    0\n",
      "churn               0\n",
      "dtype: int64\n",
      "\n",
      "DATA TYPES:\n",
      "customer_id           int64\n",
      "credit_score          int64\n",
      "country              object\n",
      "gender               object\n",
      "age                   int64\n",
      "tenure                int64\n",
      "balance             float64\n",
      "products_number       int64\n",
      "credit_card           int64\n",
      "active_member         int64\n",
      "estimated_salary    float64\n",
      "churn                 int64\n",
      "dtype: object\n",
      "\n",
      "COUNT OF UNIQUE VALUES IN EACH COLUMN: \n",
      "customer_id : 10000\n",
      "credit_score : 460\n",
      "country : 3\n",
      "gender : 2\n",
      "age : 70\n",
      "tenure : 11\n",
      "balance : 6382\n",
      "products_number : 4\n",
      "credit_card : 2\n",
      "active_member : 2\n",
      "estimated_salary : 9999\n",
      "churn : 2\n",
      "\n",
      "DISTRIBUTION OF TARGET VARIABLE: \n",
      "0    7963\n",
      "1    2037\n",
      "Name: churn, dtype: int64\n",
      "\n",
      "DISTRIBUTION OF CATEGORICAL COLUMNS: \n",
      "France     5014\n",
      "Germany    2509\n",
      "Spain      2477\n",
      "Name: country, dtype: int64 \n",
      "\n",
      "Male      5457\n",
      "Female    4543\n",
      "Name: gender, dtype: int64 \n",
      "\n"
     ]
    }
   ],
   "source": [
    "# Function to do some basic EDA\n",
    "def basic_eda(df):\n",
    "    '''Function that prints basic EDA information.\n",
    "    \n",
    "    # Argument\n",
    "        df: dataframe with the features you want to examine.\n",
    "            Should be the original dataframe, before separating target.\n",
    "    # Returns\n",
    "        Prints the shape, number of duplicate rows, number of nulls,\n",
    "        data types, unique value counts for each feature, basic statistics\n",
    "        for numerical columns, and distribution of categorical columns.\n",
    "    '''\n",
    "    print('***** BASIC EDA *****')\n",
    "    print(f'\\nDATA SHAPE: {df.shape}')\n",
    "    print(f'\\nNUMBER OF DUPLICATES: {df.duplicated().sum()}')\n",
    "    print(f'\\nMISSING VALUE COUNTS:\\n{df.isnull().sum()}')\n",
    "    print(f'\\nDATA TYPES:\\n{df.dtypes}')\n",
    "    print('\\nCOUNT OF UNIQUE VALUES IN EACH COLUMN: ')\n",
    "    for col in df.columns:\n",
    "        print(col, ':', df[col].nunique())\n",
    "    print(f'\\nDISTRIBUTION OF TARGET VARIABLE: \\n{df.churn.value_counts()}')\n",
    "    print('\\nDISTRIBUTION OF CATEGORICAL COLUMNS: ')\n",
    "    for col in df.select_dtypes(include=['object', 'category']):\n",
    "        print(df[col].value_counts(), '\\n')\n",
    "        \n",
    "basic_eda(df)"
   ]
  },
  {
   "cell_type": "code",
   "execution_count": 5,
   "metadata": {},
   "outputs": [
    {
     "data": {
      "text/html": [
       "<div>\n",
       "<style scoped>\n",
       "    .dataframe tbody tr th:only-of-type {\n",
       "        vertical-align: middle;\n",
       "    }\n",
       "\n",
       "    .dataframe tbody tr th {\n",
       "        vertical-align: top;\n",
       "    }\n",
       "\n",
       "    .dataframe thead th {\n",
       "        text-align: right;\n",
       "    }\n",
       "</style>\n",
       "<table border=\"1\" class=\"dataframe\">\n",
       "  <thead>\n",
       "    <tr style=\"text-align: right;\">\n",
       "      <th></th>\n",
       "      <th>customer_id</th>\n",
       "      <th>credit_score</th>\n",
       "      <th>age</th>\n",
       "      <th>tenure</th>\n",
       "      <th>balance</th>\n",
       "      <th>products_number</th>\n",
       "      <th>credit_card</th>\n",
       "      <th>active_member</th>\n",
       "      <th>estimated_salary</th>\n",
       "      <th>churn</th>\n",
       "    </tr>\n",
       "  </thead>\n",
       "  <tbody>\n",
       "    <tr>\n",
       "      <th>count</th>\n",
       "      <td>1.000000e+04</td>\n",
       "      <td>10000.000000</td>\n",
       "      <td>10000.000000</td>\n",
       "      <td>10000.000000</td>\n",
       "      <td>10000.000000</td>\n",
       "      <td>10000.000000</td>\n",
       "      <td>10000.00000</td>\n",
       "      <td>10000.000000</td>\n",
       "      <td>10000.000000</td>\n",
       "      <td>10000.000000</td>\n",
       "    </tr>\n",
       "    <tr>\n",
       "      <th>mean</th>\n",
       "      <td>1.569094e+07</td>\n",
       "      <td>650.528800</td>\n",
       "      <td>38.921800</td>\n",
       "      <td>5.012800</td>\n",
       "      <td>76485.889288</td>\n",
       "      <td>1.530200</td>\n",
       "      <td>0.70550</td>\n",
       "      <td>0.515100</td>\n",
       "      <td>100090.239881</td>\n",
       "      <td>0.203700</td>\n",
       "    </tr>\n",
       "    <tr>\n",
       "      <th>std</th>\n",
       "      <td>7.193619e+04</td>\n",
       "      <td>96.653299</td>\n",
       "      <td>10.487806</td>\n",
       "      <td>2.892174</td>\n",
       "      <td>62397.405202</td>\n",
       "      <td>0.581654</td>\n",
       "      <td>0.45584</td>\n",
       "      <td>0.499797</td>\n",
       "      <td>57510.492818</td>\n",
       "      <td>0.402769</td>\n",
       "    </tr>\n",
       "    <tr>\n",
       "      <th>min</th>\n",
       "      <td>1.556570e+07</td>\n",
       "      <td>350.000000</td>\n",
       "      <td>18.000000</td>\n",
       "      <td>0.000000</td>\n",
       "      <td>0.000000</td>\n",
       "      <td>1.000000</td>\n",
       "      <td>0.00000</td>\n",
       "      <td>0.000000</td>\n",
       "      <td>11.580000</td>\n",
       "      <td>0.000000</td>\n",
       "    </tr>\n",
       "    <tr>\n",
       "      <th>25%</th>\n",
       "      <td>1.562853e+07</td>\n",
       "      <td>584.000000</td>\n",
       "      <td>32.000000</td>\n",
       "      <td>3.000000</td>\n",
       "      <td>0.000000</td>\n",
       "      <td>1.000000</td>\n",
       "      <td>0.00000</td>\n",
       "      <td>0.000000</td>\n",
       "      <td>51002.110000</td>\n",
       "      <td>0.000000</td>\n",
       "    </tr>\n",
       "    <tr>\n",
       "      <th>50%</th>\n",
       "      <td>1.569074e+07</td>\n",
       "      <td>652.000000</td>\n",
       "      <td>37.000000</td>\n",
       "      <td>5.000000</td>\n",
       "      <td>97198.540000</td>\n",
       "      <td>1.000000</td>\n",
       "      <td>1.00000</td>\n",
       "      <td>1.000000</td>\n",
       "      <td>100193.915000</td>\n",
       "      <td>0.000000</td>\n",
       "    </tr>\n",
       "    <tr>\n",
       "      <th>75%</th>\n",
       "      <td>1.575323e+07</td>\n",
       "      <td>718.000000</td>\n",
       "      <td>44.000000</td>\n",
       "      <td>7.000000</td>\n",
       "      <td>127644.240000</td>\n",
       "      <td>2.000000</td>\n",
       "      <td>1.00000</td>\n",
       "      <td>1.000000</td>\n",
       "      <td>149388.247500</td>\n",
       "      <td>0.000000</td>\n",
       "    </tr>\n",
       "    <tr>\n",
       "      <th>max</th>\n",
       "      <td>1.581569e+07</td>\n",
       "      <td>850.000000</td>\n",
       "      <td>92.000000</td>\n",
       "      <td>10.000000</td>\n",
       "      <td>250898.090000</td>\n",
       "      <td>4.000000</td>\n",
       "      <td>1.00000</td>\n",
       "      <td>1.000000</td>\n",
       "      <td>199992.480000</td>\n",
       "      <td>1.000000</td>\n",
       "    </tr>\n",
       "  </tbody>\n",
       "</table>\n",
       "</div>"
      ],
      "text/plain": [
       "        customer_id  credit_score           age        tenure        balance  \\\n",
       "count  1.000000e+04  10000.000000  10000.000000  10000.000000   10000.000000   \n",
       "mean   1.569094e+07    650.528800     38.921800      5.012800   76485.889288   \n",
       "std    7.193619e+04     96.653299     10.487806      2.892174   62397.405202   \n",
       "min    1.556570e+07    350.000000     18.000000      0.000000       0.000000   \n",
       "25%    1.562853e+07    584.000000     32.000000      3.000000       0.000000   \n",
       "50%    1.569074e+07    652.000000     37.000000      5.000000   97198.540000   \n",
       "75%    1.575323e+07    718.000000     44.000000      7.000000  127644.240000   \n",
       "max    1.581569e+07    850.000000     92.000000     10.000000  250898.090000   \n",
       "\n",
       "       products_number  credit_card  active_member  estimated_salary  \\\n",
       "count     10000.000000  10000.00000   10000.000000      10000.000000   \n",
       "mean          1.530200      0.70550       0.515100     100090.239881   \n",
       "std           0.581654      0.45584       0.499797      57510.492818   \n",
       "min           1.000000      0.00000       0.000000         11.580000   \n",
       "25%           1.000000      0.00000       0.000000      51002.110000   \n",
       "50%           1.000000      1.00000       1.000000     100193.915000   \n",
       "75%           2.000000      1.00000       1.000000     149388.247500   \n",
       "max           4.000000      1.00000       1.000000     199992.480000   \n",
       "\n",
       "              churn  \n",
       "count  10000.000000  \n",
       "mean       0.203700  \n",
       "std        0.402769  \n",
       "min        0.000000  \n",
       "25%        0.000000  \n",
       "50%        0.000000  \n",
       "75%        0.000000  \n",
       "max        1.000000  "
      ]
     },
     "execution_count": 5,
     "metadata": {},
     "output_type": "execute_result"
    }
   ],
   "source": [
    "# See statistics for numerical columns\n",
    "df.describe()"
   ]
  },
  {
   "attachments": {},
   "cell_type": "markdown",
   "metadata": {},
   "source": [
    "We have 10,000 rows and 12 columns in the original dataset and have no nulls or duplicates. From the summary, we see about 70% of the customers have a credit card, about 50% of the customers are an active member, and most customers did not churn, compared to those who did churn (roughly 20% of the customers churned). We also notice that some features, such as `credit_score`, `age`, `balance`, and `estimated_salary` have different ranges and scales and only 2 variables are categorical, but taking a closer look at our data, we see that `credit_card` and `active_member` should also be categorical variables (binary categorical). Therefore, we will need perform some standardization and convert some features to categorical variables so that the model does not interpret them as numerical."
   ]
  },
  {
   "attachments": {},
   "cell_type": "markdown",
   "metadata": {},
   "source": [
    "## Demographic Analysis\n",
    "- Analyzing `age`, `gender`, and `country` to see if there are any patterns in the data."
   ]
  },
  {
   "cell_type": "code",
   "execution_count": 6,
   "metadata": {},
   "outputs": [],
   "source": [
    "# Function to make bar plots for EDA\n",
    "def make_bar_plot(calculated_variable, x_label, y_label, title, ylim=0):\n",
    "    '''Function to make bar plots for EDA.\n",
    "    \n",
    "    # Arguments\n",
    "        calculated_variable: string, variable you are plotting\n",
    "        x_label: string, x-axis label\n",
    "        y_label: string, y-axis label\n",
    "        title: string, title of graph\n",
    "        ylim: int, starting number on y-axis\n",
    "        \n",
    "    # Returns\n",
    "        A bar chart\n",
    "    '''\n",
    "    fig, ax = plt.subplots()\n",
    "    sns.barplot(x=calculated_variable.index, y=calculated_variable.values)\n",
    "    plt.bar_label(ax.containers[0], fmt='%.2f')\n",
    "    ax.set_ylim(ylim,)\n",
    "    ax.set_xlabel(x_label)\n",
    "    ax.set_ylabel(y_label)\n",
    "    ax.set_title(title)\n",
    "    plt.show()"
   ]
  },
  {
   "cell_type": "code",
   "execution_count": 7,
   "metadata": {},
   "outputs": [
    {
     "data": {
      "image/png": "[encoded data removed]",
      "text/plain": [
       "<Figure size 640x480 with 1 Axes>"
      ]
     },
     "metadata": {},
     "output_type": "display_data"
    }
   ],
   "source": [
    "# Plot of the churn rates for each gender\n",
    "churn_rate_gender = df.groupby('gender')['churn'].mean()\n",
    "make_bar_plot(churn_rate_gender, \n",
    "              x_label='Gender', \n",
    "              y_label='Churn Rate', \n",
    "              title='Churn Rate by Gender')"
   ]
  },
  {
   "cell_type": "code",
   "execution_count": 8,
   "metadata": {},
   "outputs": [],
   "source": [
    "# Binning the age feature\n",
    "agebins = [18, 30, 40, 50, 60, 70, 80, 100]\n",
    "agelabels = ['18-30', '31-40', '41-50', '51-60', '61-70', '71-80', '81+']\n",
    "df['age_bins'] = pd.cut(df['age'], bins=agebins, labels=agelabels)"
   ]
  },
  {
   "cell_type": "code",
   "execution_count": 9,
   "metadata": {},
   "outputs": [
    {
     "data": {
      "text/plain": [
       "31-40    4451\n",
       "41-50    2320\n",
       "18-30    1946\n",
       "51-60     797\n",
       "61-70     331\n",
       "71-80     121\n",
       "81+        12\n",
       "Name: age_bins, dtype: int64"
      ]
     },
     "execution_count": 9,
     "metadata": {},
     "output_type": "execute_result"
    }
   ],
   "source": [
    "# Number of customers in each age group\n",
    "df['age_bins'].value_counts()"
   ]
  },
  {
   "cell_type": "code",
   "execution_count": 10,
   "metadata": {},
   "outputs": [
    {
     "data": {
      "image/png": "[encoded data removed]",
      "text/plain": [
       "<Figure size 640x480 with 1 Axes>"
      ]
     },
     "metadata": {},
     "output_type": "display_data"
    }
   ],
   "source": [
    "# Plot of the churn rates for each age group\n",
    "churn_rate_age = df.groupby('age_bins')['churn'].mean()\n",
    "make_bar_plot(churn_rate_age, \n",
    "              x_label='Age Range', \n",
    "              y_label='Churn Rate', \n",
    "              title='Churn Rate by Age Group')"
   ]
  },
  {
   "attachments": {},
   "cell_type": "markdown",
   "metadata": {},
   "source": [
    "In the demographic analysis, we find that females churn more than males do, which might indicate some level of gender discrimination. Business Insider found that many financial service providers has failed to serve women and they could generate $700 billion in additional annual revenue if they were to provide financial services to women at the same rate they are provided to men (Iskenderian, 2022). Catering more services towards women would be helpful in retaining this demographic. \n",
    "\n",
    "We also find that older customers are more likely to churn than younger ones. This could be because most of the amenities for this age group tends to be the same across the industry, whereas older customers may start thinking about retirement, pensions, inheritance, taxes, etc. which means they will be interested in finding the bank that offers the best deal. It could also be because older customers value customer service and real-life interactions more than younger customers do. As more banks head towards digitalization, older customers may leave the bank if it means finding banks that better offer those traditional services.\n",
    "\n",
    "*TLDR: We find that women churn more than men and older people churn more than younger people, with the peak churn rates occurring in the 50-60 age group.*"
   ]
  },
  {
   "attachments": {},
   "cell_type": "markdown",
   "metadata": {},
   "source": [
    "## Creditworthiness Analysis\n",
    "- Analyzing `credit_score` to see if there are any patterns in the data."
   ]
  },
  {
   "cell_type": "code",
   "execution_count": 11,
   "metadata": {},
   "outputs": [],
   "source": [
    "# Binning the credit score feature\n",
    "# Poor and Fair (350-669), Good (670-739), Excellent (740-850)\n",
    "creditscorebins = [0, 669, 739, 850]\n",
    "creditscorelabels = ['Poor', 'Good', 'Excellent']\n",
    "df['cs_bins'] = pd.cut(df['credit_score'], \n",
    "                       bins=creditscorebins, labels=creditscorelabels)"
   ]
  },
  {
   "cell_type": "code",
   "execution_count": 12,
   "metadata": {},
   "outputs": [
    {
     "data": {
      "image/png": "[encoded data removed]",
      "text/plain": [
       "<Figure size 640x480 with 1 Axes>"
      ]
     },
     "metadata": {},
     "output_type": "display_data"
    }
   ],
   "source": [
    "# Plot the churn rate for each credit score group\n",
    "churn_rate_creditscore = df.groupby('cs_bins')['churn'].mean()\n",
    "make_bar_plot(churn_rate_creditscore, \n",
    "              x_label='Credit Score',\n",
    "              y_label='Churn Rate',\n",
    "              title='Churn Rate by Credit Score')"
   ]
  },
  {
   "attachments": {},
   "cell_type": "markdown",
   "metadata": {},
   "source": [
    "Which age group has the lowest credit score? Does this explain the churn rate for that group?"
   ]
  },
  {
   "cell_type": "code",
   "execution_count": 13,
   "metadata": {},
   "outputs": [],
   "source": [
    "# Average credit score for each age group\n",
    "df['creditscore_per_age'] = df.groupby('age_bins')['credit_score'].transform('mean')"
   ]
  },
  {
   "cell_type": "code",
   "execution_count": 14,
   "metadata": {},
   "outputs": [
    {
     "data": {
      "image/png": "[encoded data removed]",
      "text/plain": [
       "<Figure size 640x480 with 1 Axes>"
      ]
     },
     "metadata": {},
     "output_type": "display_data"
    }
   ],
   "source": [
    "# Plot the average credit score for each age group\n",
    "avg_creditscore_per_age = df.groupby('age_bins')['credit_score'].mean()\n",
    "make_bar_plot(avg_creditscore_per_age,\n",
    "              x_label='Age Group',\n",
    "              y_label='Credit Score',\n",
    "              title='Average Credit Score per Age Group',\n",
    "              ylim=500)"
   ]
  },
  {
   "attachments": {},
   "cell_type": "markdown",
   "metadata": {},
   "source": [
    "People with lower credit scores are usually charged with higher interest rates, higher insurance premiums, and higher chances of being deinied loans, which should mean they are more likely to churn. Therefore, we clustered them into three groups: \"Poor\", \"Good\", and \"Excellent\" based on the FICO rating system. Logically, those with a \"Poor\" rating had the highest churn rate. \n",
    "\n",
    "We then calculated the average credit score for each age group. This offers a possible explanation for why the 50-60 age group had the highest churn rate, the higher probability of churn is not solely because of their age, but because of their credit score given their age group.\n",
    "\n",
    "*TLDR: Customers with low credit scores churn more and the 50-60 age group doesn't churn more only because of their age, but because they are the age group with the lowest credit score.*"
   ]
  },
  {
   "attachments": {},
   "cell_type": "markdown",
   "metadata": {},
   "source": [
    "## Customer Engagement Analysis\n",
    "- Analyzing `tenure`, `products_number`, `credit_card`, and `active_member` to see if there are any patterns in the data.\n",
    "- Are more engaged customers (longer tenure, more products, active membership) less likely to churn? Or perhaps long-tenure customers are more likely to churn due to complacency in the customer service they receive? "
   ]
  },
  {
   "attachments": {},
   "cell_type": "markdown",
   "metadata": {},
   "source": [
    "### *Active vs. Inactive Members*"
   ]
  },
  {
   "cell_type": "code",
   "execution_count": 15,
   "metadata": {},
   "outputs": [
    {
     "data": {
      "text/plain": [
       "1    5151\n",
       "0    4849\n",
       "Name: active_member, dtype: int64"
      ]
     },
     "execution_count": 15,
     "metadata": {},
     "output_type": "execute_result"
    }
   ],
   "source": [
    "# Active member value counts\n",
    "df['active_member'].value_counts()"
   ]
  },
  {
   "cell_type": "code",
   "execution_count": 16,
   "metadata": {},
   "outputs": [
    {
     "data": {
      "image/png": "[encoded data removed]",
      "text/plain": [
       "<Figure size 600x600 with 1 Axes>"
      ]
     },
     "metadata": {},
     "output_type": "display_data"
    }
   ],
   "source": [
    "# Pie chart of proportion of churn by active member status\n",
    "# Get counts of churned customers in each 'active_member' category\n",
    "churn_counts_by_active_member = df[df['churn'] == 1]['active_member'].value_counts()\n",
    "\n",
    "# Convert these counts into proportions\n",
    "total_churn = churn_counts_by_active_member.sum()\n",
    "churn_proportions = (churn_counts_by_active_member / total_churn) * 100\n",
    "\n",
    "# Create the pie chart\n",
    "plt.figure(figsize=(6,6))\n",
    "plt.pie(churn_proportions, \n",
    "        labels = ['Non-Active Members', 'Active Members'], \n",
    "        autopct='%1.f%%')\n",
    "plt.title('Proportion of Churn by Active Member Status')\n",
    "plt.show()"
   ]
  },
  {
   "attachments": {},
   "cell_type": "markdown",
   "metadata": {},
   "source": [
    "Do active or non-active members have lower credit? Does this explain the higher churn rate for that group?"
   ]
  },
  {
   "cell_type": "code",
   "execution_count": 17,
   "metadata": {},
   "outputs": [
    {
     "data": {
      "text/plain": [
       "active_member\n",
       "0    647.973603\n",
       "1    652.934188\n",
       "Name: credit_score, dtype: float64"
      ]
     },
     "execution_count": 17,
     "metadata": {},
     "output_type": "execute_result"
    }
   ],
   "source": [
    "# Average credit scores for active member status\n",
    "df.groupby('active_member')['credit_score'].mean()"
   ]
  },
  {
   "attachments": {},
   "cell_type": "markdown",
   "metadata": {},
   "source": [
    "### *Number of Products*"
   ]
  },
  {
   "cell_type": "code",
   "execution_count": 18,
   "metadata": {},
   "outputs": [
    {
     "data": {
      "image/png": "[encoded data removed]",
      "text/plain": [
       "<Figure size 640x480 with 1 Axes>"
      ]
     },
     "metadata": {},
     "output_type": "display_data"
    }
   ],
   "source": [
    "# Plot the churn rate by number of products they have at the bank\n",
    "churn_rate_by_num_prods = df.groupby('products_number')['churn'].mean()\n",
    "make_bar_plot(churn_rate_by_num_prods,\n",
    "              x_label='Number of Products',\n",
    "              y_label='Churn Rate',\n",
    "              title='Churn Rate by Number of Products')"
   ]
  },
  {
   "attachments": {},
   "cell_type": "markdown",
   "metadata": {},
   "source": [
    "Why are customers with 2 products ideal customers?"
   ]
  },
  {
   "cell_type": "code",
   "execution_count": 19,
   "metadata": {},
   "outputs": [
    {
     "data": {
      "text/html": [
       "<style type=\"text/css\">\n",
       "#T_bb2df_row0_col0 {\n",
       "  background-color: #27904c;\n",
       "  color: #f1f1f1;\n",
       "}\n",
       "#T_bb2df_row0_col1 {\n",
       "  background-color: #d9f1f0;\n",
       "  color: #000000;\n",
       "}\n",
       "#T_bb2df_row0_col2 {\n",
       "  background-color: #ceede8;\n",
       "  color: #000000;\n",
       "}\n",
       "#T_bb2df_row0_col3, #T_bb2df_row1_col0, #T_bb2df_row3_col1, #T_bb2df_row3_col2 {\n",
       "  background-color: #00441b;\n",
       "  color: #f1f1f1;\n",
       "}\n",
       "#T_bb2df_row1_col1 {\n",
       "  background-color: #248c47;\n",
       "  color: #f1f1f1;\n",
       "}\n",
       "#T_bb2df_row1_col2, #T_bb2df_row1_col3, #T_bb2df_row2_col0, #T_bb2df_row2_col1 {\n",
       "  background-color: #f7fcfd;\n",
       "  color: #000000;\n",
       "}\n",
       "#T_bb2df_row2_col2 {\n",
       "  background-color: #329d5e;\n",
       "  color: #f1f1f1;\n",
       "}\n",
       "#T_bb2df_row2_col3 {\n",
       "  background-color: #64c1a2;\n",
       "  color: #000000;\n",
       "}\n",
       "#T_bb2df_row3_col0 {\n",
       "  background-color: #5abb95;\n",
       "  color: #f1f1f1;\n",
       "}\n",
       "#T_bb2df_row3_col3 {\n",
       "  background-color: #006529;\n",
       "  color: #f1f1f1;\n",
       "}\n",
       "</style>\n",
       "<table id=\"T_bb2df_\">\n",
       "  <thead>\n",
       "    <tr>\n",
       "      <th class=\"blank level0\" >&nbsp;</th>\n",
       "      <th class=\"col_heading level0 col0\" >active_member</th>\n",
       "      <th class=\"col_heading level0 col1\" >credit_score</th>\n",
       "      <th class=\"col_heading level0 col2\" >age</th>\n",
       "      <th class=\"col_heading level0 col3\" >balance</th>\n",
       "    </tr>\n",
       "    <tr>\n",
       "      <th class=\"index_name level0\" >products_number</th>\n",
       "      <th class=\"blank col0\" >&nbsp;</th>\n",
       "      <th class=\"blank col1\" >&nbsp;</th>\n",
       "      <th class=\"blank col2\" >&nbsp;</th>\n",
       "      <th class=\"blank col3\" >&nbsp;</th>\n",
       "    </tr>\n",
       "  </thead>\n",
       "  <tbody>\n",
       "    <tr>\n",
       "      <th id=\"T_bb2df_level0_row0\" class=\"row_heading level0 row0\" >1</th>\n",
       "      <td id=\"T_bb2df_row0_col0\" class=\"data row0 col0\" >0.504131</td>\n",
       "      <td id=\"T_bb2df_row0_col1\" class=\"data row0 col1\" >649.120968</td>\n",
       "      <td id=\"T_bb2df_row0_col2\" class=\"data row0 col2\" >39.673092</td>\n",
       "      <td id=\"T_bb2df_row0_col3\" class=\"data row0 col3\" >98551.870614</td>\n",
       "    </tr>\n",
       "    <tr>\n",
       "      <th id=\"T_bb2df_level0_row1\" class=\"row_heading level0 row1\" >2</th>\n",
       "      <td id=\"T_bb2df_row1_col0\" class=\"data row1 col0\" >0.532898</td>\n",
       "      <td id=\"T_bb2df_row1_col1\" class=\"data row1 col1\" >652.188671</td>\n",
       "      <td id=\"T_bb2df_row1_col2\" class=\"data row1 col2\" >37.753595</td>\n",
       "      <td id=\"T_bb2df_row1_col3\" class=\"data row1 col3\" >51879.145813</td>\n",
       "    </tr>\n",
       "    <tr>\n",
       "      <th id=\"T_bb2df_level0_row2\" class=\"row_heading level0 row2\" >3</th>\n",
       "      <td id=\"T_bb2df_row2_col0\" class=\"data row2 col0\" >0.424812</td>\n",
       "      <td id=\"T_bb2df_row2_col1\" class=\"data row2 col1\" >648.105263</td>\n",
       "      <td id=\"T_bb2df_row2_col2\" class=\"data row2 col2\" >43.195489</td>\n",
       "      <td id=\"T_bb2df_row2_col3\" class=\"data row2 col3\" >75458.328195</td>\n",
       "    </tr>\n",
       "    <tr>\n",
       "      <th id=\"T_bb2df_level0_row3\" class=\"row_heading level0 row3\" >4</th>\n",
       "      <td id=\"T_bb2df_row3_col0\" class=\"data row3 col0\" >0.483333</td>\n",
       "      <td id=\"T_bb2df_row3_col1\" class=\"data row3 col1\" >653.583333</td>\n",
       "      <td id=\"T_bb2df_row3_col2\" class=\"data row3 col2\" >45.683333</td>\n",
       "      <td id=\"T_bb2df_row3_col3\" class=\"data row3 col3\" >93733.135000</td>\n",
       "    </tr>\n",
       "  </tbody>\n",
       "</table>\n"
      ],
      "text/plain": [
       "<pandas.io.formats.style.Styler at 0x1d2cbc1ba50>"
      ]
     },
     "execution_count": 19,
     "metadata": {},
     "output_type": "execute_result"
    }
   ],
   "source": [
    "# Make a table to see various features of customers with 2 products\n",
    "features_to_check = ['active_member', 'credit_score', 'age', 'balance']\n",
    "df.groupby('products_number')[features_to_check].mean().style.background_gradient(cmap='BuGn')"
   ]
  },
  {
   "attachments": {},
   "cell_type": "markdown",
   "metadata": {},
   "source": [
    "Customers with 2 products are usually active members, have a high credit score, are younger, and have a lower balance than customers with 1, 2, or 4 products."
   ]
  },
  {
   "attachments": {},
   "cell_type": "markdown",
   "metadata": {},
   "source": [
    "### *Engagement Score*\n",
    "- Scoring system based on `tenure`, `products_number`, and `active_member` to calculate how engaged a customer is."
   ]
  },
  {
   "cell_type": "code",
   "execution_count": 20,
   "metadata": {},
   "outputs": [],
   "source": [
    "# Create an engagement score feature to calculate how enagaged a customer is\n",
    "# Standardize tenure and products number so theyre the same scale as active members\n",
    "df['tenure_normalized'] = (df['tenure'] - \n",
    "                            df['tenure'].min()) / (df['tenure'].max() - \n",
    "                            df['tenure'].min())\n",
    "df['prod_num_normalized'] = (df['products_number'] - \n",
    "                             df['products_number'].min() / df['products_number'].max() - \n",
    "                             df['products_number'].min())\n",
    "\n",
    "# Calculate engagement score and add to dataframe\n",
    "df['engagement_score'] = (df['tenure_normalized'] + \n",
    "                          df['prod_num_normalized'] + \n",
    "                          df['active_member'])\n",
    "\n",
    "# Add weights if one feature is more important than others: \n",
    "# df['engagement_score'] = (df['tenure_normalized'] + \n",
    "#                           df['prod_num_normalized'] + \n",
    "#                           2*df['active_member'])"
   ]
  },
  {
   "cell_type": "code",
   "execution_count": 21,
   "metadata": {},
   "outputs": [],
   "source": [
    "# Drop temporary columns\n",
    "df = df.drop(columns=['tenure_normalized', 'prod_num_normalized'])"
   ]
  },
  {
   "cell_type": "code",
   "execution_count": 22,
   "metadata": {},
   "outputs": [
    {
     "data": {
      "image/png": "[encoded data removed]",
      "text/plain": [
       "<Figure size 640x480 with 1 Axes>"
      ]
     },
     "metadata": {},
     "output_type": "display_data"
    }
   ],
   "source": [
    "# Plot churn rate for engagement scores\n",
    "engagement_churn = df.groupby('engagement_score')['churn'].mean()\n",
    "fig, ax = plt.subplots()\n",
    "sns.lineplot(x=engagement_churn.index, y=engagement_churn.values)\n",
    "ax.set_title('Engagement Score and Churn Rate')\n",
    "ax.set_xlabel('Engagement Score \\n(tenure, number of products, active member status)')\n",
    "ax.set_ylabel('Churn Rate')\n",
    "plt.show()"
   ]
  },
  {
   "attachments": {},
   "cell_type": "markdown",
   "metadata": {},
   "source": [
    "Analyzing customer engagement, we first found that non-active customers are almost 30% more likely to leave the bank than active ones. We then found non-active customers also seemed to be less financially responsible as their credit scores are lower.\n",
    "\n",
    "We then find that customers with 2 products are ideal customers, as they have the lowest churn rate by far. Although customers with only 1 product were relatively riskier than those with 2, they were much less risky than those with 3 or 4 products and should be considered safe. These customers were younger, typically active members (moreso than customers with 1, 3, or 4 products), had a high average credit score, and were majority male. This might be the demographic you will not need to worry about or target for an ad campaign because they are less likely to switch banks. However, customers with more than 2 products almost always meant they bit off more than they could chew and were likely to leave the bank.\n",
    "\n",
    "Finally, we calculated an engagement score based on tenure, active member status, and number of products. We found that the higher the engagement score, the higher the churn rate. This could indicate an issue with the customer service. The bank should look into their customer service and see if there is a problem with the way they are treating their customers to attempt to resolve this. \n",
    "\n",
    "*TLDR: Active members are less likely to churn than non-active members. Customers with 2 products are ideal customers. The higher the engagement score, the higher the churn rate, which could indicate an issue with customer service.*"
   ]
  },
  {
   "attachments": {},
   "cell_type": "markdown",
   "metadata": {},
   "source": [
    "## Financial Status Analysis\n",
    "- Analyzing `balance` and `estimated_salary` to see if there are any patterns in the data."
   ]
  },
  {
   "attachments": {},
   "cell_type": "markdown",
   "metadata": {},
   "source": [
    "### *Balance*"
   ]
  },
  {
   "cell_type": "code",
   "execution_count": 55,
   "metadata": {},
   "outputs": [
    {
     "data": {
      "image/png": "[encoded data removed]",
      "text/plain": [
       "<Figure size 640x480 with 1 Axes>"
      ]
     },
     "metadata": {},
     "output_type": "display_data"
    }
   ],
   "source": [
    "# Plot age groups and balance\n",
    "age_balance = df.groupby('age_bins')['balance'].mean()\n",
    "make_bar_plot(age_balance,\n",
    "              x_label='Age Groups',\n",
    "              y_label='Balance',\n",
    "              title='Average Balance and Age Groups',\n",
    "              ylim=40000)"
   ]
  },
  {
   "attachments": {},
   "cell_type": "markdown",
   "metadata": {},
   "source": [
    "### *Balance to Salary Ratio*"
   ]
  },
  {
   "cell_type": "code",
   "execution_count": 23,
   "metadata": {},
   "outputs": [],
   "source": [
    "# Calculate balance to salary ratio for each customer\n",
    "df['balance_salary_ratio'] = df['balance'] / df['estimated_salary']"
   ]
  },
  {
   "cell_type": "code",
   "execution_count": 24,
   "metadata": {},
   "outputs": [
    {
     "data": {
      "image/png": "[encoded data removed]",
      "text/plain": [
       "<Figure size 640x480 with 1 Axes>"
      ]
     },
     "metadata": {},
     "output_type": "display_data"
    }
   ],
   "source": [
    "# Plot active member status and balance to salary ratio\n",
    "active_member_bsratio = df.groupby('active_member')['balance_salary_ratio'].mean()\n",
    "make_bar_plot(active_member_bsratio,\n",
    "              x_label='Active Member Status',\n",
    "              y_label='Balance to Salary Ratio',\n",
    "              title='Balance to Salary Ratio and Active Member Status')"
   ]
  },
  {
   "attachments": {},
   "cell_type": "markdown",
   "metadata": {},
   "source": [
    "When analyzing financial status, we first looked at the average balance for each of the age groups to investigate if this can be another factor into why older customers tend to churn more. We found that the age groups that churned the most did have the highest average balance. This reinforces my belief that these customers might be shopping around to other banks looking for the best deal for their retirement, pensions, etc. Next, we calculated a balance to salary ratio. A higher balance to salary ratio might indicate that group is more financially responsible, as they put more of their salary in a bank account. Active members had a ratio of 4.54 compared to non-active members at 3.17, indicating that non-active members' money might have been flowing to more than one bank as a result of the inability to get certain products at one bank due to their low credit scores, or they simply had poor money management skills. \n",
    "\n",
    "*TLDR: The age groups with the highest churn rates have the highest balances and active members have a higher balance to salary ratio than non-active members and have a higher credit score.*"
   ]
  },
  {
   "attachments": {},
   "cell_type": "markdown",
   "metadata": {},
   "source": [
    "# Data Preprocessing\n",
    "\n",
    "Since we identified that some numerical columns have different scales, we will need to scale them to make sure they are all on the same scale. We will also need to one hot encode the categorical features. To do this, we will use StandardScaler and OneHotEncoder from sklearn.preprocessing. We will also need to drop some columns that we will not be using in our model. Then we will use ColumnTransformer to apply the transformations to the correct columns when we build our pipelines."
   ]
  },
  {
   "cell_type": "code",
   "execution_count": 26,
   "metadata": {},
   "outputs": [
    {
     "data": {
      "text/html": [
       "<div>\n",
       "<style scoped>\n",
       "    .dataframe tbody tr th:only-of-type {\n",
       "        vertical-align: middle;\n",
       "    }\n",
       "\n",
       "    .dataframe tbody tr th {\n",
       "        vertical-align: top;\n",
       "    }\n",
       "\n",
       "    .dataframe thead th {\n",
       "        text-align: right;\n",
       "    }\n",
       "</style>\n",
       "<table border=\"1\" class=\"dataframe\">\n",
       "  <thead>\n",
       "    <tr style=\"text-align: right;\">\n",
       "      <th></th>\n",
       "      <th>customer_id</th>\n",
       "      <th>credit_score</th>\n",
       "      <th>country</th>\n",
       "      <th>gender</th>\n",
       "      <th>age</th>\n",
       "      <th>tenure</th>\n",
       "      <th>balance</th>\n",
       "      <th>products_number</th>\n",
       "      <th>credit_card</th>\n",
       "      <th>active_member</th>\n",
       "      <th>estimated_salary</th>\n",
       "      <th>churn</th>\n",
       "      <th>age_bins</th>\n",
       "      <th>cs_bins</th>\n",
       "      <th>creditscore_per_age</th>\n",
       "      <th>engagement_score</th>\n",
       "      <th>balance_salary_ratio</th>\n",
       "    </tr>\n",
       "  </thead>\n",
       "  <tbody>\n",
       "    <tr>\n",
       "      <th>0</th>\n",
       "      <td>15634602</td>\n",
       "      <td>619</td>\n",
       "      <td>France</td>\n",
       "      <td>Female</td>\n",
       "      <td>42</td>\n",
       "      <td>2</td>\n",
       "      <td>0.00</td>\n",
       "      <td>1</td>\n",
       "      <td>1</td>\n",
       "      <td>1</td>\n",
       "      <td>101348.88</td>\n",
       "      <td>1</td>\n",
       "      <td>41-50</td>\n",
       "      <td>Poor</td>\n",
       "      <td>648.794397</td>\n",
       "      <td>0.95</td>\n",
       "      <td>0.000000</td>\n",
       "    </tr>\n",
       "    <tr>\n",
       "      <th>1</th>\n",
       "      <td>15647311</td>\n",
       "      <td>608</td>\n",
       "      <td>Spain</td>\n",
       "      <td>Female</td>\n",
       "      <td>41</td>\n",
       "      <td>1</td>\n",
       "      <td>83807.86</td>\n",
       "      <td>1</td>\n",
       "      <td>0</td>\n",
       "      <td>1</td>\n",
       "      <td>112542.58</td>\n",
       "      <td>0</td>\n",
       "      <td>41-50</td>\n",
       "      <td>Poor</td>\n",
       "      <td>648.794397</td>\n",
       "      <td>0.85</td>\n",
       "      <td>0.744677</td>\n",
       "    </tr>\n",
       "    <tr>\n",
       "      <th>2</th>\n",
       "      <td>15619304</td>\n",
       "      <td>502</td>\n",
       "      <td>France</td>\n",
       "      <td>Female</td>\n",
       "      <td>42</td>\n",
       "      <td>8</td>\n",
       "      <td>159660.80</td>\n",
       "      <td>3</td>\n",
       "      <td>1</td>\n",
       "      <td>0</td>\n",
       "      <td>113931.57</td>\n",
       "      <td>1</td>\n",
       "      <td>41-50</td>\n",
       "      <td>Poor</td>\n",
       "      <td>648.794397</td>\n",
       "      <td>2.55</td>\n",
       "      <td>1.401375</td>\n",
       "    </tr>\n",
       "    <tr>\n",
       "      <th>3</th>\n",
       "      <td>15701354</td>\n",
       "      <td>699</td>\n",
       "      <td>France</td>\n",
       "      <td>Female</td>\n",
       "      <td>39</td>\n",
       "      <td>1</td>\n",
       "      <td>0.00</td>\n",
       "      <td>2</td>\n",
       "      <td>0</td>\n",
       "      <td>0</td>\n",
       "      <td>93826.63</td>\n",
       "      <td>0</td>\n",
       "      <td>31-40</td>\n",
       "      <td>Good</td>\n",
       "      <td>651.391148</td>\n",
       "      <td>0.85</td>\n",
       "      <td>0.000000</td>\n",
       "    </tr>\n",
       "    <tr>\n",
       "      <th>4</th>\n",
       "      <td>15737888</td>\n",
       "      <td>850</td>\n",
       "      <td>Spain</td>\n",
       "      <td>Female</td>\n",
       "      <td>43</td>\n",
       "      <td>2</td>\n",
       "      <td>125510.82</td>\n",
       "      <td>1</td>\n",
       "      <td>1</td>\n",
       "      <td>1</td>\n",
       "      <td>79084.10</td>\n",
       "      <td>0</td>\n",
       "      <td>41-50</td>\n",
       "      <td>Excellent</td>\n",
       "      <td>648.794397</td>\n",
       "      <td>0.95</td>\n",
       "      <td>1.587055</td>\n",
       "    </tr>\n",
       "    <tr>\n",
       "      <th>...</th>\n",
       "      <td>...</td>\n",
       "      <td>...</td>\n",
       "      <td>...</td>\n",
       "      <td>...</td>\n",
       "      <td>...</td>\n",
       "      <td>...</td>\n",
       "      <td>...</td>\n",
       "      <td>...</td>\n",
       "      <td>...</td>\n",
       "      <td>...</td>\n",
       "      <td>...</td>\n",
       "      <td>...</td>\n",
       "      <td>...</td>\n",
       "      <td>...</td>\n",
       "      <td>...</td>\n",
       "      <td>...</td>\n",
       "      <td>...</td>\n",
       "    </tr>\n",
       "    <tr>\n",
       "      <th>9995</th>\n",
       "      <td>15606229</td>\n",
       "      <td>771</td>\n",
       "      <td>France</td>\n",
       "      <td>Male</td>\n",
       "      <td>39</td>\n",
       "      <td>5</td>\n",
       "      <td>0.00</td>\n",
       "      <td>2</td>\n",
       "      <td>1</td>\n",
       "      <td>0</td>\n",
       "      <td>96270.64</td>\n",
       "      <td>0</td>\n",
       "      <td>31-40</td>\n",
       "      <td>Excellent</td>\n",
       "      <td>651.391148</td>\n",
       "      <td>1.25</td>\n",
       "      <td>0.000000</td>\n",
       "    </tr>\n",
       "    <tr>\n",
       "      <th>9996</th>\n",
       "      <td>15569892</td>\n",
       "      <td>516</td>\n",
       "      <td>France</td>\n",
       "      <td>Male</td>\n",
       "      <td>35</td>\n",
       "      <td>10</td>\n",
       "      <td>57369.61</td>\n",
       "      <td>1</td>\n",
       "      <td>1</td>\n",
       "      <td>1</td>\n",
       "      <td>101699.77</td>\n",
       "      <td>0</td>\n",
       "      <td>31-40</td>\n",
       "      <td>Poor</td>\n",
       "      <td>651.391148</td>\n",
       "      <td>1.75</td>\n",
       "      <td>0.564108</td>\n",
       "    </tr>\n",
       "    <tr>\n",
       "      <th>9997</th>\n",
       "      <td>15584532</td>\n",
       "      <td>709</td>\n",
       "      <td>France</td>\n",
       "      <td>Female</td>\n",
       "      <td>36</td>\n",
       "      <td>7</td>\n",
       "      <td>0.00</td>\n",
       "      <td>1</td>\n",
       "      <td>0</td>\n",
       "      <td>1</td>\n",
       "      <td>42085.58</td>\n",
       "      <td>1</td>\n",
       "      <td>31-40</td>\n",
       "      <td>Good</td>\n",
       "      <td>651.391148</td>\n",
       "      <td>1.45</td>\n",
       "      <td>0.000000</td>\n",
       "    </tr>\n",
       "    <tr>\n",
       "      <th>9998</th>\n",
       "      <td>15682355</td>\n",
       "      <td>772</td>\n",
       "      <td>Germany</td>\n",
       "      <td>Male</td>\n",
       "      <td>42</td>\n",
       "      <td>3</td>\n",
       "      <td>75075.31</td>\n",
       "      <td>2</td>\n",
       "      <td>1</td>\n",
       "      <td>0</td>\n",
       "      <td>92888.52</td>\n",
       "      <td>1</td>\n",
       "      <td>41-50</td>\n",
       "      <td>Excellent</td>\n",
       "      <td>648.794397</td>\n",
       "      <td>1.05</td>\n",
       "      <td>0.808230</td>\n",
       "    </tr>\n",
       "    <tr>\n",
       "      <th>9999</th>\n",
       "      <td>15628319</td>\n",
       "      <td>792</td>\n",
       "      <td>France</td>\n",
       "      <td>Female</td>\n",
       "      <td>28</td>\n",
       "      <td>4</td>\n",
       "      <td>130142.79</td>\n",
       "      <td>1</td>\n",
       "      <td>1</td>\n",
       "      <td>0</td>\n",
       "      <td>38190.78</td>\n",
       "      <td>0</td>\n",
       "      <td>18-30</td>\n",
       "      <td>Excellent</td>\n",
       "      <td>650.799589</td>\n",
       "      <td>0.15</td>\n",
       "      <td>3.407702</td>\n",
       "    </tr>\n",
       "  </tbody>\n",
       "</table>\n",
       "<p>10000 rows × 17 columns</p>\n",
       "</div>"
      ],
      "text/plain": [
       "      customer_id  credit_score  country  gender  age  tenure    balance  \\\n",
       "0        15634602           619   France  Female   42       2       0.00   \n",
       "1        15647311           608    Spain  Female   41       1   83807.86   \n",
       "2        15619304           502   France  Female   42       8  159660.80   \n",
       "3        15701354           699   France  Female   39       1       0.00   \n",
       "4        15737888           850    Spain  Female   43       2  125510.82   \n",
       "...           ...           ...      ...     ...  ...     ...        ...   \n",
       "9995     15606229           771   France    Male   39       5       0.00   \n",
       "9996     15569892           516   France    Male   35      10   57369.61   \n",
       "9997     15584532           709   France  Female   36       7       0.00   \n",
       "9998     15682355           772  Germany    Male   42       3   75075.31   \n",
       "9999     15628319           792   France  Female   28       4  130142.79   \n",
       "\n",
       "      products_number  credit_card  active_member  estimated_salary  churn  \\\n",
       "0                   1            1              1         101348.88      1   \n",
       "1                   1            0              1         112542.58      0   \n",
       "2                   3            1              0         113931.57      1   \n",
       "3                   2            0              0          93826.63      0   \n",
       "4                   1            1              1          79084.10      0   \n",
       "...               ...          ...            ...               ...    ...   \n",
       "9995                2            1              0          96270.64      0   \n",
       "9996                1            1              1         101699.77      0   \n",
       "9997                1            0              1          42085.58      1   \n",
       "9998                2            1              0          92888.52      1   \n",
       "9999                1            1              0          38190.78      0   \n",
       "\n",
       "     age_bins    cs_bins  creditscore_per_age  engagement_score  \\\n",
       "0       41-50       Poor           648.794397              0.95   \n",
       "1       41-50       Poor           648.794397              0.85   \n",
       "2       41-50       Poor           648.794397              2.55   \n",
       "3       31-40       Good           651.391148              0.85   \n",
       "4       41-50  Excellent           648.794397              0.95   \n",
       "...       ...        ...                  ...               ...   \n",
       "9995    31-40  Excellent           651.391148              1.25   \n",
       "9996    31-40       Poor           651.391148              1.75   \n",
       "9997    31-40       Good           651.391148              1.45   \n",
       "9998    41-50  Excellent           648.794397              1.05   \n",
       "9999    18-30  Excellent           650.799589              0.15   \n",
       "\n",
       "      balance_salary_ratio  \n",
       "0                 0.000000  \n",
       "1                 0.744677  \n",
       "2                 1.401375  \n",
       "3                 0.000000  \n",
       "4                 1.587055  \n",
       "...                    ...  \n",
       "9995              0.000000  \n",
       "9996              0.564108  \n",
       "9997              0.000000  \n",
       "9998              0.808230  \n",
       "9999              3.407702  \n",
       "\n",
       "[10000 rows x 17 columns]"
      ]
     },
     "execution_count": 26,
     "metadata": {},
     "output_type": "execute_result"
    }
   ],
   "source": [
    "df"
   ]
  },
  {
   "cell_type": "code",
   "execution_count": 27,
   "metadata": {},
   "outputs": [],
   "source": [
    "# Split features and target\n",
    "X = df.copy()\n",
    "y = X.pop('churn')"
   ]
  },
  {
   "cell_type": "code",
   "execution_count": 28,
   "metadata": {},
   "outputs": [],
   "source": [
    "# Drop age_bins, cs_bins, and creditscore_per_age columns for model\n",
    "# We will just use age and credit_score instead.\n",
    "X = X.drop(columns=['customer_id', 'age_bins','cs_bins','creditscore_per_age'])"
   ]
  },
  {
   "cell_type": "code",
   "execution_count": 29,
   "metadata": {},
   "outputs": [],
   "source": [
    "# Define preprocessing steps for pipeline\n",
    "# Numerical columns\n",
    "num_cols = ['credit_score', 'age', 'tenure', \n",
    "            'balance', 'estimated_salary', \n",
    "            'engagement_score', 'balance_salary_ratio']\n",
    "\n",
    "# Categorical columns\n",
    "cat_cols = ['country', 'gender', 'credit_card', \n",
    "            'active_member', 'products_number']\n",
    "\n",
    "# Preprocessing for numerical columns\n",
    "num_transformer = StandardScaler()\n",
    "\n",
    "# Preprocessing for categorical columns\n",
    "cat_transformer = OneHotEncoder()\n",
    "\n",
    "# Apply preprocessing to numerical and categoricals\n",
    "preprocessor = ColumnTransformer(\n",
    "    transformers=[\n",
    "        ('num', num_transformer, num_cols),\n",
    "        ('cat', cat_transformer, cat_cols)\n",
    "    ]\n",
    ")\n",
    "\n"
   ]
  },
  {
   "attachments": {},
   "cell_type": "markdown",
   "metadata": {},
   "source": [
    "# Model Building\n",
    "\n",
    "We will be trying a few different models to see which one performs the best. We will be using the following models:\n",
    "- Random Forest Classifier\n",
    "- Logistic Regression\n",
    "- Support Vector Classifier\n",
    "\n",
    "These models are popular for classification problems due to their versatility, interpretability, and performance. We will then evaluate each model to find which one performs the best before generating a list of customers who are likely to churn."
   ]
  },
  {
   "cell_type": "code",
   "execution_count": 30,
   "metadata": {},
   "outputs": [],
   "source": [
    "# Create pipelines to evaluate various models \n",
    "\n",
    "# Models to evaluate\n",
    "rf_model = RandomForestClassifier()\n",
    "lr_model = LogisticRegression()\n",
    "svc_model = SVC()\n",
    "\n",
    "# Random Forest Classifier pipeline\n",
    "pipeline_rf = Pipeline(steps=[('preprocessor', preprocessor),\n",
    "                              ('model', rf_model)])\n",
    "\n",
    "# Logistic Regression pipeline\n",
    "pipeline_lr = Pipeline(steps=[('preprocessor', preprocessor),\n",
    "                              ('model', lr_model)])\n",
    "\n",
    "# SVC pipeline\n",
    "pipeline_svc = Pipeline(steps=[('preprocessor', preprocessor),\n",
    "                              ('model', svc_model)])"
   ]
  },
  {
   "cell_type": "code",
   "execution_count": 31,
   "metadata": {},
   "outputs": [],
   "source": [
    "# Split the data\n",
    "# Stratify to ensure the distribution of target is the same \n",
    "# in both training and test set since our target is imbalanced\n",
    "X_train, X_valid, y_train, y_valid = train_test_split(X, y, \n",
    "                                                      stratify=y, \n",
    "                                                      train_size=0.75)"
   ]
  },
  {
   "cell_type": "code",
   "execution_count": 32,
   "metadata": {},
   "outputs": [
    {
     "data": {
      "text/html": [
       "<style>#sk-container-id-1 {color: black;background-color: white;}#sk-container-id-1 pre{padding: 0;}#sk-container-id-1 div.sk-toggleable {background-color: white;}#sk-container-id-1 label.sk-toggleable__label {cursor: pointer;display: block;width: 100%;margin-bottom: 0;padding: 0.3em;box-sizing: border-box;text-align: center;}#sk-container-id-1 label.sk-toggleable__label-arrow:before {content: \"▸\";float: left;margin-right: 0.25em;color: #696969;}#sk-container-id-1 label.sk-toggleable__label-arrow:hover:before {color: black;}#sk-container-id-1 div.sk-estimator:hover label.sk-toggleable__label-arrow:before {color: black;}#sk-container-id-1 div.sk-toggleable__content {max-height: 0;max-width: 0;overflow: hidden;text-align: left;background-color: #f0f8ff;}#sk-container-id-1 div.sk-toggleable__content pre {margin: 0.2em;color: black;border-radius: 0.25em;background-color: #f0f8ff;}#sk-container-id-1 input.sk-toggleable__control:checked~div.sk-toggleable__content {max-height: 200px;max-width: 100%;overflow: auto;}#sk-container-id-1 input.sk-toggleable__control:checked~label.sk-toggleable__label-arrow:before {content: \"▾\";}#sk-container-id-1 div.sk-estimator input.sk-toggleable__control:checked~label.sk-toggleable__label {background-color: #d4ebff;}#sk-container-id-1 div.sk-label input.sk-toggleable__control:checked~label.sk-toggleable__label {background-color: #d4ebff;}#sk-container-id-1 input.sk-hidden--visually {border: 0;clip: rect(1px 1px 1px 1px);clip: rect(1px, 1px, 1px, 1px);height: 1px;margin: -1px;overflow: hidden;padding: 0;position: absolute;width: 1px;}#sk-container-id-1 div.sk-estimator {font-family: monospace;background-color: #f0f8ff;border: 1px dotted black;border-radius: 0.25em;box-sizing: border-box;margin-bottom: 0.5em;}#sk-container-id-1 div.sk-estimator:hover {background-color: #d4ebff;}#sk-container-id-1 div.sk-parallel-item::after {content: \"\";width: 100%;border-bottom: 1px solid gray;flex-grow: 1;}#sk-container-id-1 div.sk-label:hover label.sk-toggleable__label {background-color: #d4ebff;}#sk-container-id-1 div.sk-serial::before {content: \"\";position: absolute;border-left: 1px solid gray;box-sizing: border-box;top: 0;bottom: 0;left: 50%;z-index: 0;}#sk-container-id-1 div.sk-serial {display: flex;flex-direction: column;align-items: center;background-color: white;padding-right: 0.2em;padding-left: 0.2em;position: relative;}#sk-container-id-1 div.sk-item {position: relative;z-index: 1;}#sk-container-id-1 div.sk-parallel {display: flex;align-items: stretch;justify-content: center;background-color: white;position: relative;}#sk-container-id-1 div.sk-item::before, #sk-container-id-1 div.sk-parallel-item::before {content: \"\";position: absolute;border-left: 1px solid gray;box-sizing: border-box;top: 0;bottom: 0;left: 50%;z-index: -1;}#sk-container-id-1 div.sk-parallel-item {display: flex;flex-direction: column;z-index: 1;position: relative;background-color: white;}#sk-container-id-1 div.sk-parallel-item:first-child::after {align-self: flex-end;width: 50%;}#sk-container-id-1 div.sk-parallel-item:last-child::after {align-self: flex-start;width: 50%;}#sk-container-id-1 div.sk-parallel-item:only-child::after {width: 0;}#sk-container-id-1 div.sk-dashed-wrapped {border: 1px dashed gray;margin: 0 0.4em 0.5em 0.4em;box-sizing: border-box;padding-bottom: 0.4em;background-color: white;}#sk-container-id-1 div.sk-label label {font-family: monospace;font-weight: bold;display: inline-block;line-height: 1.2em;}#sk-container-id-1 div.sk-label-container {text-align: center;}#sk-container-id-1 div.sk-container {/* jupyter's `normalize.less` sets `[hidden] { display: none; }` but bootstrap.min.css set `[hidden] { display: none !important; }` so we also need the `!important` here to be able to override the default hidden behavior on the sphinx rendered scikit-learn.org. See: https://github.com/scikit-learn/scikit-learn/issues/21755 */display: inline-block !important;position: relative;}#sk-container-id-1 div.sk-text-repr-fallback {display: none;}</style><div id=\"sk-container-id-1\" class=\"sk-top-container\"><div class=\"sk-text-repr-fallback\"><pre>Pipeline(steps=[(&#x27;preprocessor&#x27;,\n",
       "                 ColumnTransformer(transformers=[(&#x27;num&#x27;, StandardScaler(),\n",
       "                                                  [&#x27;credit_score&#x27;, &#x27;age&#x27;,\n",
       "                                                   &#x27;tenure&#x27;, &#x27;balance&#x27;,\n",
       "                                                   &#x27;estimated_salary&#x27;,\n",
       "                                                   &#x27;engagement_score&#x27;,\n",
       "                                                   &#x27;balance_salary_ratio&#x27;]),\n",
       "                                                 (&#x27;cat&#x27;, OneHotEncoder(),\n",
       "                                                  [&#x27;country&#x27;, &#x27;gender&#x27;,\n",
       "                                                   &#x27;credit_card&#x27;,\n",
       "                                                   &#x27;active_member&#x27;,\n",
       "                                                   &#x27;products_number&#x27;])])),\n",
       "                (&#x27;model&#x27;, RandomForestClassifier())])</pre><b>In a Jupyter environment, please rerun this cell to show the HTML representation or trust the notebook. <br />On GitHub, the HTML representation is unable to render, please try loading this page with nbviewer.org.</b></div><div class=\"sk-container\" hidden><div class=\"sk-item sk-dashed-wrapped\"><div class=\"sk-label-container\"><div class=\"sk-label sk-toggleable\"><input class=\"sk-toggleable__control sk-hidden--visually\" id=\"sk-estimator-id-1\" type=\"checkbox\" ><label for=\"sk-estimator-id-1\" class=\"sk-toggleable__label sk-toggleable__label-arrow\">Pipeline</label><div class=\"sk-toggleable__content\"><pre>Pipeline(steps=[(&#x27;preprocessor&#x27;,\n",
       "                 ColumnTransformer(transformers=[(&#x27;num&#x27;, StandardScaler(),\n",
       "                                                  [&#x27;credit_score&#x27;, &#x27;age&#x27;,\n",
       "                                                   &#x27;tenure&#x27;, &#x27;balance&#x27;,\n",
       "                                                   &#x27;estimated_salary&#x27;,\n",
       "                                                   &#x27;engagement_score&#x27;,\n",
       "                                                   &#x27;balance_salary_ratio&#x27;]),\n",
       "                                                 (&#x27;cat&#x27;, OneHotEncoder(),\n",
       "                                                  [&#x27;country&#x27;, &#x27;gender&#x27;,\n",
       "                                                   &#x27;credit_card&#x27;,\n",
       "                                                   &#x27;active_member&#x27;,\n",
       "                                                   &#x27;products_number&#x27;])])),\n",
       "                (&#x27;model&#x27;, RandomForestClassifier())])</pre></div></div></div><div class=\"sk-serial\"><div class=\"sk-item sk-dashed-wrapped\"><div class=\"sk-label-container\"><div class=\"sk-label sk-toggleable\"><input class=\"sk-toggleable__control sk-hidden--visually\" id=\"sk-estimator-id-2\" type=\"checkbox\" ><label for=\"sk-estimator-id-2\" class=\"sk-toggleable__label sk-toggleable__label-arrow\">preprocessor: ColumnTransformer</label><div class=\"sk-toggleable__content\"><pre>ColumnTransformer(transformers=[(&#x27;num&#x27;, StandardScaler(),\n",
       "                                 [&#x27;credit_score&#x27;, &#x27;age&#x27;, &#x27;tenure&#x27;, &#x27;balance&#x27;,\n",
       "                                  &#x27;estimated_salary&#x27;, &#x27;engagement_score&#x27;,\n",
       "                                  &#x27;balance_salary_ratio&#x27;]),\n",
       "                                (&#x27;cat&#x27;, OneHotEncoder(),\n",
       "                                 [&#x27;country&#x27;, &#x27;gender&#x27;, &#x27;credit_card&#x27;,\n",
       "                                  &#x27;active_member&#x27;, &#x27;products_number&#x27;])])</pre></div></div></div><div class=\"sk-parallel\"><div class=\"sk-parallel-item\"><div class=\"sk-item\"><div class=\"sk-label-container\"><div class=\"sk-label sk-toggleable\"><input class=\"sk-toggleable__control sk-hidden--visually\" id=\"sk-estimator-id-3\" type=\"checkbox\" ><label for=\"sk-estimator-id-3\" class=\"sk-toggleable__label sk-toggleable__label-arrow\">num</label><div class=\"sk-toggleable__content\"><pre>[&#x27;credit_score&#x27;, &#x27;age&#x27;, &#x27;tenure&#x27;, &#x27;balance&#x27;, &#x27;estimated_salary&#x27;, &#x27;engagement_score&#x27;, &#x27;balance_salary_ratio&#x27;]</pre></div></div></div><div class=\"sk-serial\"><div class=\"sk-item\"><div class=\"sk-estimator sk-toggleable\"><input class=\"sk-toggleable__control sk-hidden--visually\" id=\"sk-estimator-id-4\" type=\"checkbox\" ><label for=\"sk-estimator-id-4\" class=\"sk-toggleable__label sk-toggleable__label-arrow\">StandardScaler</label><div class=\"sk-toggleable__content\"><pre>StandardScaler()</pre></div></div></div></div></div></div><div class=\"sk-parallel-item\"><div class=\"sk-item\"><div class=\"sk-label-container\"><div class=\"sk-label sk-toggleable\"><input class=\"sk-toggleable__control sk-hidden--visually\" id=\"sk-estimator-id-5\" type=\"checkbox\" ><label for=\"sk-estimator-id-5\" class=\"sk-toggleable__label sk-toggleable__label-arrow\">cat</label><div class=\"sk-toggleable__content\"><pre>[&#x27;country&#x27;, &#x27;gender&#x27;, &#x27;credit_card&#x27;, &#x27;active_member&#x27;, &#x27;products_number&#x27;]</pre></div></div></div><div class=\"sk-serial\"><div class=\"sk-item\"><div class=\"sk-estimator sk-toggleable\"><input class=\"sk-toggleable__control sk-hidden--visually\" id=\"sk-estimator-id-6\" type=\"checkbox\" ><label for=\"sk-estimator-id-6\" class=\"sk-toggleable__label sk-toggleable__label-arrow\">OneHotEncoder</label><div class=\"sk-toggleable__content\"><pre>OneHotEncoder()</pre></div></div></div></div></div></div></div></div><div class=\"sk-item\"><div class=\"sk-estimator sk-toggleable\"><input class=\"sk-toggleable__control sk-hidden--visually\" id=\"sk-estimator-id-7\" type=\"checkbox\" ><label for=\"sk-estimator-id-7\" class=\"sk-toggleable__label sk-toggleable__label-arrow\">RandomForestClassifier</label><div class=\"sk-toggleable__content\"><pre>RandomForestClassifier()</pre></div></div></div></div></div></div></div>"
      ],
      "text/plain": [
       "Pipeline(steps=[('preprocessor',\n",
       "                 ColumnTransformer(transformers=[('num', StandardScaler(),\n",
       "                                                  ['credit_score', 'age',\n",
       "                                                   'tenure', 'balance',\n",
       "                                                   'estimated_salary',\n",
       "                                                   'engagement_score',\n",
       "                                                   'balance_salary_ratio']),\n",
       "                                                 ('cat', OneHotEncoder(),\n",
       "                                                  ['country', 'gender',\n",
       "                                                   'credit_card',\n",
       "                                                   'active_member',\n",
       "                                                   'products_number'])])),\n",
       "                ('model', RandomForestClassifier())])"
      ]
     },
     "execution_count": 32,
     "metadata": {},
     "output_type": "execute_result"
    }
   ],
   "source": [
    "# Preprocessing of training data, fit RFC model\n",
    "pipeline_rf.fit(X_train, y_train)"
   ]
  },
  {
   "cell_type": "code",
   "execution_count": 33,
   "metadata": {},
   "outputs": [
    {
     "data": {
      "text/html": [
       "<style>#sk-container-id-2 {color: black;background-color: white;}#sk-container-id-2 pre{padding: 0;}#sk-container-id-2 div.sk-toggleable {background-color: white;}#sk-container-id-2 label.sk-toggleable__label {cursor: pointer;display: block;width: 100%;margin-bottom: 0;padding: 0.3em;box-sizing: border-box;text-align: center;}#sk-container-id-2 label.sk-toggleable__label-arrow:before {content: \"▸\";float: left;margin-right: 0.25em;color: #696969;}#sk-container-id-2 label.sk-toggleable__label-arrow:hover:before {color: black;}#sk-container-id-2 div.sk-estimator:hover label.sk-toggleable__label-arrow:before {color: black;}#sk-container-id-2 div.sk-toggleable__content {max-height: 0;max-width: 0;overflow: hidden;text-align: left;background-color: #f0f8ff;}#sk-container-id-2 div.sk-toggleable__content pre {margin: 0.2em;color: black;border-radius: 0.25em;background-color: #f0f8ff;}#sk-container-id-2 input.sk-toggleable__control:checked~div.sk-toggleable__content {max-height: 200px;max-width: 100%;overflow: auto;}#sk-container-id-2 input.sk-toggleable__control:checked~label.sk-toggleable__label-arrow:before {content: \"▾\";}#sk-container-id-2 div.sk-estimator input.sk-toggleable__control:checked~label.sk-toggleable__label {background-color: #d4ebff;}#sk-container-id-2 div.sk-label input.sk-toggleable__control:checked~label.sk-toggleable__label {background-color: #d4ebff;}#sk-container-id-2 input.sk-hidden--visually {border: 0;clip: rect(1px 1px 1px 1px);clip: rect(1px, 1px, 1px, 1px);height: 1px;margin: -1px;overflow: hidden;padding: 0;position: absolute;width: 1px;}#sk-container-id-2 div.sk-estimator {font-family: monospace;background-color: #f0f8ff;border: 1px dotted black;border-radius: 0.25em;box-sizing: border-box;margin-bottom: 0.5em;}#sk-container-id-2 div.sk-estimator:hover {background-color: #d4ebff;}#sk-container-id-2 div.sk-parallel-item::after {content: \"\";width: 100%;border-bottom: 1px solid gray;flex-grow: 1;}#sk-container-id-2 div.sk-label:hover label.sk-toggleable__label {background-color: #d4ebff;}#sk-container-id-2 div.sk-serial::before {content: \"\";position: absolute;border-left: 1px solid gray;box-sizing: border-box;top: 0;bottom: 0;left: 50%;z-index: 0;}#sk-container-id-2 div.sk-serial {display: flex;flex-direction: column;align-items: center;background-color: white;padding-right: 0.2em;padding-left: 0.2em;position: relative;}#sk-container-id-2 div.sk-item {position: relative;z-index: 1;}#sk-container-id-2 div.sk-parallel {display: flex;align-items: stretch;justify-content: center;background-color: white;position: relative;}#sk-container-id-2 div.sk-item::before, #sk-container-id-2 div.sk-parallel-item::before {content: \"\";position: absolute;border-left: 1px solid gray;box-sizing: border-box;top: 0;bottom: 0;left: 50%;z-index: -1;}#sk-container-id-2 div.sk-parallel-item {display: flex;flex-direction: column;z-index: 1;position: relative;background-color: white;}#sk-container-id-2 div.sk-parallel-item:first-child::after {align-self: flex-end;width: 50%;}#sk-container-id-2 div.sk-parallel-item:last-child::after {align-self: flex-start;width: 50%;}#sk-container-id-2 div.sk-parallel-item:only-child::after {width: 0;}#sk-container-id-2 div.sk-dashed-wrapped {border: 1px dashed gray;margin: 0 0.4em 0.5em 0.4em;box-sizing: border-box;padding-bottom: 0.4em;background-color: white;}#sk-container-id-2 div.sk-label label {font-family: monospace;font-weight: bold;display: inline-block;line-height: 1.2em;}#sk-container-id-2 div.sk-label-container {text-align: center;}#sk-container-id-2 div.sk-container {/* jupyter's `normalize.less` sets `[hidden] { display: none; }` but bootstrap.min.css set `[hidden] { display: none !important; }` so we also need the `!important` here to be able to override the default hidden behavior on the sphinx rendered scikit-learn.org. See: https://github.com/scikit-learn/scikit-learn/issues/21755 */display: inline-block !important;position: relative;}#sk-container-id-2 div.sk-text-repr-fallback {display: none;}</style><div id=\"sk-container-id-2\" class=\"sk-top-container\"><div class=\"sk-text-repr-fallback\"><pre>Pipeline(steps=[(&#x27;preprocessor&#x27;,\n",
       "                 ColumnTransformer(transformers=[(&#x27;num&#x27;, StandardScaler(),\n",
       "                                                  [&#x27;credit_score&#x27;, &#x27;age&#x27;,\n",
       "                                                   &#x27;tenure&#x27;, &#x27;balance&#x27;,\n",
       "                                                   &#x27;estimated_salary&#x27;,\n",
       "                                                   &#x27;engagement_score&#x27;,\n",
       "                                                   &#x27;balance_salary_ratio&#x27;]),\n",
       "                                                 (&#x27;cat&#x27;, OneHotEncoder(),\n",
       "                                                  [&#x27;country&#x27;, &#x27;gender&#x27;,\n",
       "                                                   &#x27;credit_card&#x27;,\n",
       "                                                   &#x27;active_member&#x27;,\n",
       "                                                   &#x27;products_number&#x27;])])),\n",
       "                (&#x27;model&#x27;, LogisticRegression())])</pre><b>In a Jupyter environment, please rerun this cell to show the HTML representation or trust the notebook. <br />On GitHub, the HTML representation is unable to render, please try loading this page with nbviewer.org.</b></div><div class=\"sk-container\" hidden><div class=\"sk-item sk-dashed-wrapped\"><div class=\"sk-label-container\"><div class=\"sk-label sk-toggleable\"><input class=\"sk-toggleable__control sk-hidden--visually\" id=\"sk-estimator-id-8\" type=\"checkbox\" ><label for=\"sk-estimator-id-8\" class=\"sk-toggleable__label sk-toggleable__label-arrow\">Pipeline</label><div class=\"sk-toggleable__content\"><pre>Pipeline(steps=[(&#x27;preprocessor&#x27;,\n",
       "                 ColumnTransformer(transformers=[(&#x27;num&#x27;, StandardScaler(),\n",
       "                                                  [&#x27;credit_score&#x27;, &#x27;age&#x27;,\n",
       "                                                   &#x27;tenure&#x27;, &#x27;balance&#x27;,\n",
       "                                                   &#x27;estimated_salary&#x27;,\n",
       "                                                   &#x27;engagement_score&#x27;,\n",
       "                                                   &#x27;balance_salary_ratio&#x27;]),\n",
       "                                                 (&#x27;cat&#x27;, OneHotEncoder(),\n",
       "                                                  [&#x27;country&#x27;, &#x27;gender&#x27;,\n",
       "                                                   &#x27;credit_card&#x27;,\n",
       "                                                   &#x27;active_member&#x27;,\n",
       "                                                   &#x27;products_number&#x27;])])),\n",
       "                (&#x27;model&#x27;, LogisticRegression())])</pre></div></div></div><div class=\"sk-serial\"><div class=\"sk-item sk-dashed-wrapped\"><div class=\"sk-label-container\"><div class=\"sk-label sk-toggleable\"><input class=\"sk-toggleable__control sk-hidden--visually\" id=\"sk-estimator-id-9\" type=\"checkbox\" ><label for=\"sk-estimator-id-9\" class=\"sk-toggleable__label sk-toggleable__label-arrow\">preprocessor: ColumnTransformer</label><div class=\"sk-toggleable__content\"><pre>ColumnTransformer(transformers=[(&#x27;num&#x27;, StandardScaler(),\n",
       "                                 [&#x27;credit_score&#x27;, &#x27;age&#x27;, &#x27;tenure&#x27;, &#x27;balance&#x27;,\n",
       "                                  &#x27;estimated_salary&#x27;, &#x27;engagement_score&#x27;,\n",
       "                                  &#x27;balance_salary_ratio&#x27;]),\n",
       "                                (&#x27;cat&#x27;, OneHotEncoder(),\n",
       "                                 [&#x27;country&#x27;, &#x27;gender&#x27;, &#x27;credit_card&#x27;,\n",
       "                                  &#x27;active_member&#x27;, &#x27;products_number&#x27;])])</pre></div></div></div><div class=\"sk-parallel\"><div class=\"sk-parallel-item\"><div class=\"sk-item\"><div class=\"sk-label-container\"><div class=\"sk-label sk-toggleable\"><input class=\"sk-toggleable__control sk-hidden--visually\" id=\"sk-estimator-id-10\" type=\"checkbox\" ><label for=\"sk-estimator-id-10\" class=\"sk-toggleable__label sk-toggleable__label-arrow\">num</label><div class=\"sk-toggleable__content\"><pre>[&#x27;credit_score&#x27;, &#x27;age&#x27;, &#x27;tenure&#x27;, &#x27;balance&#x27;, &#x27;estimated_salary&#x27;, &#x27;engagement_score&#x27;, &#x27;balance_salary_ratio&#x27;]</pre></div></div></div><div class=\"sk-serial\"><div class=\"sk-item\"><div class=\"sk-estimator sk-toggleable\"><input class=\"sk-toggleable__control sk-hidden--visually\" id=\"sk-estimator-id-11\" type=\"checkbox\" ><label for=\"sk-estimator-id-11\" class=\"sk-toggleable__label sk-toggleable__label-arrow\">StandardScaler</label><div class=\"sk-toggleable__content\"><pre>StandardScaler()</pre></div></div></div></div></div></div><div class=\"sk-parallel-item\"><div class=\"sk-item\"><div class=\"sk-label-container\"><div class=\"sk-label sk-toggleable\"><input class=\"sk-toggleable__control sk-hidden--visually\" id=\"sk-estimator-id-12\" type=\"checkbox\" ><label for=\"sk-estimator-id-12\" class=\"sk-toggleable__label sk-toggleable__label-arrow\">cat</label><div class=\"sk-toggleable__content\"><pre>[&#x27;country&#x27;, &#x27;gender&#x27;, &#x27;credit_card&#x27;, &#x27;active_member&#x27;, &#x27;products_number&#x27;]</pre></div></div></div><div class=\"sk-serial\"><div class=\"sk-item\"><div class=\"sk-estimator sk-toggleable\"><input class=\"sk-toggleable__control sk-hidden--visually\" id=\"sk-estimator-id-13\" type=\"checkbox\" ><label for=\"sk-estimator-id-13\" class=\"sk-toggleable__label sk-toggleable__label-arrow\">OneHotEncoder</label><div class=\"sk-toggleable__content\"><pre>OneHotEncoder()</pre></div></div></div></div></div></div></div></div><div class=\"sk-item\"><div class=\"sk-estimator sk-toggleable\"><input class=\"sk-toggleable__control sk-hidden--visually\" id=\"sk-estimator-id-14\" type=\"checkbox\" ><label for=\"sk-estimator-id-14\" class=\"sk-toggleable__label sk-toggleable__label-arrow\">LogisticRegression</label><div class=\"sk-toggleable__content\"><pre>LogisticRegression()</pre></div></div></div></div></div></div></div>"
      ],
      "text/plain": [
       "Pipeline(steps=[('preprocessor',\n",
       "                 ColumnTransformer(transformers=[('num', StandardScaler(),\n",
       "                                                  ['credit_score', 'age',\n",
       "                                                   'tenure', 'balance',\n",
       "                                                   'estimated_salary',\n",
       "                                                   'engagement_score',\n",
       "                                                   'balance_salary_ratio']),\n",
       "                                                 ('cat', OneHotEncoder(),\n",
       "                                                  ['country', 'gender',\n",
       "                                                   'credit_card',\n",
       "                                                   'active_member',\n",
       "                                                   'products_number'])])),\n",
       "                ('model', LogisticRegression())])"
      ]
     },
     "execution_count": 33,
     "metadata": {},
     "output_type": "execute_result"
    }
   ],
   "source": [
    "# Preprocessing of training data, fit LR model\n",
    "pipeline_lr.fit(X_train, y_train)"
   ]
  },
  {
   "cell_type": "code",
   "execution_count": 34,
   "metadata": {},
   "outputs": [
    {
     "data": {
      "text/html": [
       "<style>#sk-container-id-3 {color: black;background-color: white;}#sk-container-id-3 pre{padding: 0;}#sk-container-id-3 div.sk-toggleable {background-color: white;}#sk-container-id-3 label.sk-toggleable__label {cursor: pointer;display: block;width: 100%;margin-bottom: 0;padding: 0.3em;box-sizing: border-box;text-align: center;}#sk-container-id-3 label.sk-toggleable__label-arrow:before {content: \"▸\";float: left;margin-right: 0.25em;color: #696969;}#sk-container-id-3 label.sk-toggleable__label-arrow:hover:before {color: black;}#sk-container-id-3 div.sk-estimator:hover label.sk-toggleable__label-arrow:before {color: black;}#sk-container-id-3 div.sk-toggleable__content {max-height: 0;max-width: 0;overflow: hidden;text-align: left;background-color: #f0f8ff;}#sk-container-id-3 div.sk-toggleable__content pre {margin: 0.2em;color: black;border-radius: 0.25em;background-color: #f0f8ff;}#sk-container-id-3 input.sk-toggleable__control:checked~div.sk-toggleable__content {max-height: 200px;max-width: 100%;overflow: auto;}#sk-container-id-3 input.sk-toggleable__control:checked~label.sk-toggleable__label-arrow:before {content: \"▾\";}#sk-container-id-3 div.sk-estimator input.sk-toggleable__control:checked~label.sk-toggleable__label {background-color: #d4ebff;}#sk-container-id-3 div.sk-label input.sk-toggleable__control:checked~label.sk-toggleable__label {background-color: #d4ebff;}#sk-container-id-3 input.sk-hidden--visually {border: 0;clip: rect(1px 1px 1px 1px);clip: rect(1px, 1px, 1px, 1px);height: 1px;margin: -1px;overflow: hidden;padding: 0;position: absolute;width: 1px;}#sk-container-id-3 div.sk-estimator {font-family: monospace;background-color: #f0f8ff;border: 1px dotted black;border-radius: 0.25em;box-sizing: border-box;margin-bottom: 0.5em;}#sk-container-id-3 div.sk-estimator:hover {background-color: #d4ebff;}#sk-container-id-3 div.sk-parallel-item::after {content: \"\";width: 100%;border-bottom: 1px solid gray;flex-grow: 1;}#sk-container-id-3 div.sk-label:hover label.sk-toggleable__label {background-color: #d4ebff;}#sk-container-id-3 div.sk-serial::before {content: \"\";position: absolute;border-left: 1px solid gray;box-sizing: border-box;top: 0;bottom: 0;left: 50%;z-index: 0;}#sk-container-id-3 div.sk-serial {display: flex;flex-direction: column;align-items: center;background-color: white;padding-right: 0.2em;padding-left: 0.2em;position: relative;}#sk-container-id-3 div.sk-item {position: relative;z-index: 1;}#sk-container-id-3 div.sk-parallel {display: flex;align-items: stretch;justify-content: center;background-color: white;position: relative;}#sk-container-id-3 div.sk-item::before, #sk-container-id-3 div.sk-parallel-item::before {content: \"\";position: absolute;border-left: 1px solid gray;box-sizing: border-box;top: 0;bottom: 0;left: 50%;z-index: -1;}#sk-container-id-3 div.sk-parallel-item {display: flex;flex-direction: column;z-index: 1;position: relative;background-color: white;}#sk-container-id-3 div.sk-parallel-item:first-child::after {align-self: flex-end;width: 50%;}#sk-container-id-3 div.sk-parallel-item:last-child::after {align-self: flex-start;width: 50%;}#sk-container-id-3 div.sk-parallel-item:only-child::after {width: 0;}#sk-container-id-3 div.sk-dashed-wrapped {border: 1px dashed gray;margin: 0 0.4em 0.5em 0.4em;box-sizing: border-box;padding-bottom: 0.4em;background-color: white;}#sk-container-id-3 div.sk-label label {font-family: monospace;font-weight: bold;display: inline-block;line-height: 1.2em;}#sk-container-id-3 div.sk-label-container {text-align: center;}#sk-container-id-3 div.sk-container {/* jupyter's `normalize.less` sets `[hidden] { display: none; }` but bootstrap.min.css set `[hidden] { display: none !important; }` so we also need the `!important` here to be able to override the default hidden behavior on the sphinx rendered scikit-learn.org. See: https://github.com/scikit-learn/scikit-learn/issues/21755 */display: inline-block !important;position: relative;}#sk-container-id-3 div.sk-text-repr-fallback {display: none;}</style><div id=\"sk-container-id-3\" class=\"sk-top-container\"><div class=\"sk-text-repr-fallback\"><pre>Pipeline(steps=[(&#x27;preprocessor&#x27;,\n",
       "                 ColumnTransformer(transformers=[(&#x27;num&#x27;, StandardScaler(),\n",
       "                                                  [&#x27;credit_score&#x27;, &#x27;age&#x27;,\n",
       "                                                   &#x27;tenure&#x27;, &#x27;balance&#x27;,\n",
       "                                                   &#x27;estimated_salary&#x27;,\n",
       "                                                   &#x27;engagement_score&#x27;,\n",
       "                                                   &#x27;balance_salary_ratio&#x27;]),\n",
       "                                                 (&#x27;cat&#x27;, OneHotEncoder(),\n",
       "                                                  [&#x27;country&#x27;, &#x27;gender&#x27;,\n",
       "                                                   &#x27;credit_card&#x27;,\n",
       "                                                   &#x27;active_member&#x27;,\n",
       "                                                   &#x27;products_number&#x27;])])),\n",
       "                (&#x27;model&#x27;, SVC())])</pre><b>In a Jupyter environment, please rerun this cell to show the HTML representation or trust the notebook. <br />On GitHub, the HTML representation is unable to render, please try loading this page with nbviewer.org.</b></div><div class=\"sk-container\" hidden><div class=\"sk-item sk-dashed-wrapped\"><div class=\"sk-label-container\"><div class=\"sk-label sk-toggleable\"><input class=\"sk-toggleable__control sk-hidden--visually\" id=\"sk-estimator-id-15\" type=\"checkbox\" ><label for=\"sk-estimator-id-15\" class=\"sk-toggleable__label sk-toggleable__label-arrow\">Pipeline</label><div class=\"sk-toggleable__content\"><pre>Pipeline(steps=[(&#x27;preprocessor&#x27;,\n",
       "                 ColumnTransformer(transformers=[(&#x27;num&#x27;, StandardScaler(),\n",
       "                                                  [&#x27;credit_score&#x27;, &#x27;age&#x27;,\n",
       "                                                   &#x27;tenure&#x27;, &#x27;balance&#x27;,\n",
       "                                                   &#x27;estimated_salary&#x27;,\n",
       "                                                   &#x27;engagement_score&#x27;,\n",
       "                                                   &#x27;balance_salary_ratio&#x27;]),\n",
       "                                                 (&#x27;cat&#x27;, OneHotEncoder(),\n",
       "                                                  [&#x27;country&#x27;, &#x27;gender&#x27;,\n",
       "                                                   &#x27;credit_card&#x27;,\n",
       "                                                   &#x27;active_member&#x27;,\n",
       "                                                   &#x27;products_number&#x27;])])),\n",
       "                (&#x27;model&#x27;, SVC())])</pre></div></div></div><div class=\"sk-serial\"><div class=\"sk-item sk-dashed-wrapped\"><div class=\"sk-label-container\"><div class=\"sk-label sk-toggleable\"><input class=\"sk-toggleable__control sk-hidden--visually\" id=\"sk-estimator-id-16\" type=\"checkbox\" ><label for=\"sk-estimator-id-16\" class=\"sk-toggleable__label sk-toggleable__label-arrow\">preprocessor: ColumnTransformer</label><div class=\"sk-toggleable__content\"><pre>ColumnTransformer(transformers=[(&#x27;num&#x27;, StandardScaler(),\n",
       "                                 [&#x27;credit_score&#x27;, &#x27;age&#x27;, &#x27;tenure&#x27;, &#x27;balance&#x27;,\n",
       "                                  &#x27;estimated_salary&#x27;, &#x27;engagement_score&#x27;,\n",
       "                                  &#x27;balance_salary_ratio&#x27;]),\n",
       "                                (&#x27;cat&#x27;, OneHotEncoder(),\n",
       "                                 [&#x27;country&#x27;, &#x27;gender&#x27;, &#x27;credit_card&#x27;,\n",
       "                                  &#x27;active_member&#x27;, &#x27;products_number&#x27;])])</pre></div></div></div><div class=\"sk-parallel\"><div class=\"sk-parallel-item\"><div class=\"sk-item\"><div class=\"sk-label-container\"><div class=\"sk-label sk-toggleable\"><input class=\"sk-toggleable__control sk-hidden--visually\" id=\"sk-estimator-id-17\" type=\"checkbox\" ><label for=\"sk-estimator-id-17\" class=\"sk-toggleable__label sk-toggleable__label-arrow\">num</label><div class=\"sk-toggleable__content\"><pre>[&#x27;credit_score&#x27;, &#x27;age&#x27;, &#x27;tenure&#x27;, &#x27;balance&#x27;, &#x27;estimated_salary&#x27;, &#x27;engagement_score&#x27;, &#x27;balance_salary_ratio&#x27;]</pre></div></div></div><div class=\"sk-serial\"><div class=\"sk-item\"><div class=\"sk-estimator sk-toggleable\"><input class=\"sk-toggleable__control sk-hidden--visually\" id=\"sk-estimator-id-18\" type=\"checkbox\" ><label for=\"sk-estimator-id-18\" class=\"sk-toggleable__label sk-toggleable__label-arrow\">StandardScaler</label><div class=\"sk-toggleable__content\"><pre>StandardScaler()</pre></div></div></div></div></div></div><div class=\"sk-parallel-item\"><div class=\"sk-item\"><div class=\"sk-label-container\"><div class=\"sk-label sk-toggleable\"><input class=\"sk-toggleable__control sk-hidden--visually\" id=\"sk-estimator-id-19\" type=\"checkbox\" ><label for=\"sk-estimator-id-19\" class=\"sk-toggleable__label sk-toggleable__label-arrow\">cat</label><div class=\"sk-toggleable__content\"><pre>[&#x27;country&#x27;, &#x27;gender&#x27;, &#x27;credit_card&#x27;, &#x27;active_member&#x27;, &#x27;products_number&#x27;]</pre></div></div></div><div class=\"sk-serial\"><div class=\"sk-item\"><div class=\"sk-estimator sk-toggleable\"><input class=\"sk-toggleable__control sk-hidden--visually\" id=\"sk-estimator-id-20\" type=\"checkbox\" ><label for=\"sk-estimator-id-20\" class=\"sk-toggleable__label sk-toggleable__label-arrow\">OneHotEncoder</label><div class=\"sk-toggleable__content\"><pre>OneHotEncoder()</pre></div></div></div></div></div></div></div></div><div class=\"sk-item\"><div class=\"sk-estimator sk-toggleable\"><input class=\"sk-toggleable__control sk-hidden--visually\" id=\"sk-estimator-id-21\" type=\"checkbox\" ><label for=\"sk-estimator-id-21\" class=\"sk-toggleable__label sk-toggleable__label-arrow\">SVC</label><div class=\"sk-toggleable__content\"><pre>SVC()</pre></div></div></div></div></div></div></div>"
      ],
      "text/plain": [
       "Pipeline(steps=[('preprocessor',\n",
       "                 ColumnTransformer(transformers=[('num', StandardScaler(),\n",
       "                                                  ['credit_score', 'age',\n",
       "                                                   'tenure', 'balance',\n",
       "                                                   'estimated_salary',\n",
       "                                                   'engagement_score',\n",
       "                                                   'balance_salary_ratio']),\n",
       "                                                 ('cat', OneHotEncoder(),\n",
       "                                                  ['country', 'gender',\n",
       "                                                   'credit_card',\n",
       "                                                   'active_member',\n",
       "                                                   'products_number'])])),\n",
       "                ('model', SVC())])"
      ]
     },
     "execution_count": 34,
     "metadata": {},
     "output_type": "execute_result"
    }
   ],
   "source": [
    "# Preprocessing of training data, fit SVC model\n",
    "pipeline_svc.fit(X_train, y_train)"
   ]
  },
  {
   "cell_type": "code",
   "execution_count": 35,
   "metadata": {},
   "outputs": [],
   "source": [
    "# Get predictions from RFC model\n",
    "preds_rf = pipeline_rf.predict(X_valid)"
   ]
  },
  {
   "cell_type": "code",
   "execution_count": 36,
   "metadata": {},
   "outputs": [],
   "source": [
    "# Get predictions from LR model\n",
    "preds_lr = pipeline_lr.predict(X_valid)"
   ]
  },
  {
   "cell_type": "code",
   "execution_count": 37,
   "metadata": {},
   "outputs": [],
   "source": [
    "# Get predictions from SVC model\n",
    "preds_svc = pipeline_svc.predict(X_valid)"
   ]
  },
  {
   "attachments": {},
   "cell_type": "markdown",
   "metadata": {},
   "source": [
    "# Evaluate Models"
   ]
  },
  {
   "cell_type": "code",
   "execution_count": 38,
   "metadata": {},
   "outputs": [],
   "source": [
    "def print_evaluation_metrics(model_predictions, model_name):\n",
    "    '''Function to print out evaluation metrics for the models.\n",
    "    \n",
    "    # Argument\n",
    "        model_predictions: string, the predictions from the model\n",
    "        model_name: string, the type of model used\n",
    "    \n",
    "    # Returns\n",
    "        Prints the accuracy, classification report, confusion matrix,\n",
    "        and AUC score from the models.\n",
    "    '''\n",
    "    print(f'MODEL USED: {model_name}\\n')\n",
    "    print('Accuracy: ', accuracy_score(y_valid, model_predictions))\n",
    "    print('Classification report: \\n', classification_report(y_valid, model_predictions))\n",
    "    print('CM: \\n', confusion_matrix(y_valid, model_predictions))\n",
    "    print(\"AUC score: \", roc_auc_score(y_valid, model_predictions))"
   ]
  },
  {
   "cell_type": "code",
   "execution_count": 39,
   "metadata": {},
   "outputs": [
    {
     "name": "stdout",
     "output_type": "stream",
     "text": [
      "MODEL USED: Random Forest Classifier\n",
      "\n",
      "Accuracy:  0.8536\n",
      "Classification report: \n",
      "               precision    recall  f1-score   support\n",
      "\n",
      "           0       0.87      0.95      0.91      1991\n",
      "           1       0.72      0.46      0.56       509\n",
      "\n",
      "    accuracy                           0.85      2500\n",
      "   macro avg       0.80      0.71      0.74      2500\n",
      "weighted avg       0.84      0.85      0.84      2500\n",
      "\n",
      "CM: \n",
      " [[1898   93]\n",
      " [ 273  236]]\n",
      "AUC score:  0.7084720140435496\n"
     ]
    }
   ],
   "source": [
    "# RFC model evaluation\n",
    "print_evaluation_metrics(preds_rf, \n",
    "                         model_name='Random Forest Classifier')"
   ]
  },
  {
   "cell_type": "code",
   "execution_count": 40,
   "metadata": {},
   "outputs": [
    {
     "name": "stdout",
     "output_type": "stream",
     "text": [
      "MODEL USED: Logistic Regression\n",
      "\n",
      "Accuracy:  0.8452\n",
      "Classification report: \n",
      "               precision    recall  f1-score   support\n",
      "\n",
      "           0       0.86      0.96      0.91      1991\n",
      "           1       0.71      0.40      0.51       509\n",
      "\n",
      "    accuracy                           0.85      2500\n",
      "   macro avg       0.79      0.68      0.71      2500\n",
      "weighted avg       0.83      0.85      0.83      2500\n",
      "\n",
      "CM: \n",
      " [[1910   81]\n",
      " [ 306  203]]\n",
      "AUC score:  0.6790690721212056\n"
     ]
    }
   ],
   "source": [
    "# LR model evaluation\n",
    "print_evaluation_metrics(preds_lr,\n",
    "                         model_name='Logistic Regression')"
   ]
  },
  {
   "cell_type": "code",
   "execution_count": 41,
   "metadata": {},
   "outputs": [
    {
     "name": "stdout",
     "output_type": "stream",
     "text": [
      "MODEL USED: SVC\n",
      "\n",
      "Accuracy:  0.8556\n",
      "Classification report: \n",
      "               precision    recall  f1-score   support\n",
      "\n",
      "           0       0.86      0.97      0.91      1991\n",
      "           1       0.79      0.40      0.53       509\n",
      "\n",
      "    accuracy                           0.86      2500\n",
      "   macro avg       0.83      0.69      0.72      2500\n",
      "weighted avg       0.85      0.86      0.84      2500\n",
      "\n",
      "CM: \n",
      " [[1936   55]\n",
      " [ 306  203]]\n",
      "AUC score:  0.6855984543411955\n"
     ]
    }
   ],
   "source": [
    "print_evaluation_metrics(preds_svc,\n",
    "                         model_name='SVC')"
   ]
  },
  {
   "attachments": {},
   "cell_type": "markdown",
   "metadata": {},
   "source": [
    "The Random Forest Classifier has the highest accuracy and AUC score, which suggests that it's doing the best job at classifying customers and distinguishing between those who churn and those who don't. It also has the highest recall, which means it's the best at correctly identifying customers who will churn. The SVC model has the highest precision for the positive class, which means it's best at making correct churn predictions when it predicts churn. The Logistic Regression model has the lowest performance on all metrics, so this is not the best choice. \n",
    "\n",
    "Since our priority is to catch as many customers who will churn as possible (even if that means making some false positive errors), we will choose the Random Forest Classifier as our final model. However, if we wanted to be as sure as possible when we predict that a customer will churn (even if it means missing some customers who will churn), we would choose the SVC model instead.\n",
    "\n",
    "*However, to get a true test of how well the model performs, we should test it on new, unseen data. We can do this if we do 3 splits when splitting the data, make a training and test set then split the training set again into a training and validation set, then save the test set for the end, which will serve as the new, unseen data.*"
   ]
  },
  {
   "cell_type": "code",
   "execution_count": 42,
   "metadata": {},
   "outputs": [],
   "source": [
    "# Add predictions and probability of churn columns to test dataframe\n",
    "    # This REALLY should be done on a test set with unseen data, not the \n",
    "    # validation set again, but for example purposes, I will use X_valid  \n",
    "df_test = X_valid.copy()\n",
    "df_test['predictions'] = pipeline_rf.predict(X_valid)\n",
    "df_test['pred_probability'] = pipeline_rf.predict_proba(X_valid)[:,1]\n"
   ]
  },
  {
   "cell_type": "code",
   "execution_count": 43,
   "metadata": {},
   "outputs": [
    {
     "data": {
      "text/html": [
       "<div>\n",
       "<style scoped>\n",
       "    .dataframe tbody tr th:only-of-type {\n",
       "        vertical-align: middle;\n",
       "    }\n",
       "\n",
       "    .dataframe tbody tr th {\n",
       "        vertical-align: top;\n",
       "    }\n",
       "\n",
       "    .dataframe thead th {\n",
       "        text-align: right;\n",
       "    }\n",
       "</style>\n",
       "<table border=\"1\" class=\"dataframe\">\n",
       "  <thead>\n",
       "    <tr style=\"text-align: right;\">\n",
       "      <th></th>\n",
       "      <th>index</th>\n",
       "      <th>credit_score</th>\n",
       "      <th>country</th>\n",
       "      <th>gender</th>\n",
       "      <th>age</th>\n",
       "      <th>tenure</th>\n",
       "      <th>balance</th>\n",
       "      <th>products_number</th>\n",
       "      <th>credit_card</th>\n",
       "      <th>active_member</th>\n",
       "      <th>estimated_salary</th>\n",
       "      <th>engagement_score</th>\n",
       "      <th>balance_salary_ratio</th>\n",
       "      <th>predictions</th>\n",
       "      <th>pred_probability</th>\n",
       "    </tr>\n",
       "  </thead>\n",
       "  <tbody>\n",
       "    <tr>\n",
       "      <th>0</th>\n",
       "      <td>4064</td>\n",
       "      <td>626</td>\n",
       "      <td>Germany</td>\n",
       "      <td>Male</td>\n",
       "      <td>39</td>\n",
       "      <td>10</td>\n",
       "      <td>132287.92</td>\n",
       "      <td>3</td>\n",
       "      <td>1</td>\n",
       "      <td>1</td>\n",
       "      <td>51467.92</td>\n",
       "      <td>3.75</td>\n",
       "      <td>2.570299</td>\n",
       "      <td>1</td>\n",
       "      <td>1.00</td>\n",
       "    </tr>\n",
       "    <tr>\n",
       "      <th>1</th>\n",
       "      <td>871</td>\n",
       "      <td>629</td>\n",
       "      <td>Germany</td>\n",
       "      <td>Female</td>\n",
       "      <td>45</td>\n",
       "      <td>7</td>\n",
       "      <td>129818.39</td>\n",
       "      <td>3</td>\n",
       "      <td>1</td>\n",
       "      <td>0</td>\n",
       "      <td>9217.55</td>\n",
       "      <td>2.45</td>\n",
       "      <td>14.083828</td>\n",
       "      <td>1</td>\n",
       "      <td>1.00</td>\n",
       "    </tr>\n",
       "    <tr>\n",
       "      <th>2</th>\n",
       "      <td>4671</td>\n",
       "      <td>616</td>\n",
       "      <td>Germany</td>\n",
       "      <td>Female</td>\n",
       "      <td>45</td>\n",
       "      <td>6</td>\n",
       "      <td>128352.59</td>\n",
       "      <td>3</td>\n",
       "      <td>1</td>\n",
       "      <td>1</td>\n",
       "      <td>144000.59</td>\n",
       "      <td>3.35</td>\n",
       "      <td>0.891334</td>\n",
       "      <td>1</td>\n",
       "      <td>0.99</td>\n",
       "    </tr>\n",
       "    <tr>\n",
       "      <th>3</th>\n",
       "      <td>1657</td>\n",
       "      <td>704</td>\n",
       "      <td>Germany</td>\n",
       "      <td>Female</td>\n",
       "      <td>54</td>\n",
       "      <td>6</td>\n",
       "      <td>133656.91</td>\n",
       "      <td>3</td>\n",
       "      <td>1</td>\n",
       "      <td>0</td>\n",
       "      <td>145071.33</td>\n",
       "      <td>2.35</td>\n",
       "      <td>0.921319</td>\n",
       "      <td>1</td>\n",
       "      <td>0.99</td>\n",
       "    </tr>\n",
       "    <tr>\n",
       "      <th>4</th>\n",
       "      <td>6782</td>\n",
       "      <td>585</td>\n",
       "      <td>France</td>\n",
       "      <td>Male</td>\n",
       "      <td>55</td>\n",
       "      <td>10</td>\n",
       "      <td>106415.57</td>\n",
       "      <td>3</td>\n",
       "      <td>1</td>\n",
       "      <td>1</td>\n",
       "      <td>122960.98</td>\n",
       "      <td>3.75</td>\n",
       "      <td>0.865442</td>\n",
       "      <td>1</td>\n",
       "      <td>0.98</td>\n",
       "    </tr>\n",
       "    <tr>\n",
       "      <th>...</th>\n",
       "      <td>...</td>\n",
       "      <td>...</td>\n",
       "      <td>...</td>\n",
       "      <td>...</td>\n",
       "      <td>...</td>\n",
       "      <td>...</td>\n",
       "      <td>...</td>\n",
       "      <td>...</td>\n",
       "      <td>...</td>\n",
       "      <td>...</td>\n",
       "      <td>...</td>\n",
       "      <td>...</td>\n",
       "      <td>...</td>\n",
       "      <td>...</td>\n",
       "      <td>...</td>\n",
       "    </tr>\n",
       "    <tr>\n",
       "      <th>191</th>\n",
       "      <td>4555</td>\n",
       "      <td>688</td>\n",
       "      <td>Spain</td>\n",
       "      <td>Female</td>\n",
       "      <td>35</td>\n",
       "      <td>6</td>\n",
       "      <td>0.00</td>\n",
       "      <td>1</td>\n",
       "      <td>1</td>\n",
       "      <td>0</td>\n",
       "      <td>25488.43</td>\n",
       "      <td>0.35</td>\n",
       "      <td>0.000000</td>\n",
       "      <td>1</td>\n",
       "      <td>0.71</td>\n",
       "    </tr>\n",
       "    <tr>\n",
       "      <th>192</th>\n",
       "      <td>3006</td>\n",
       "      <td>747</td>\n",
       "      <td>France</td>\n",
       "      <td>Female</td>\n",
       "      <td>45</td>\n",
       "      <td>1</td>\n",
       "      <td>114959.12</td>\n",
       "      <td>1</td>\n",
       "      <td>1</td>\n",
       "      <td>0</td>\n",
       "      <td>189362.39</td>\n",
       "      <td>-0.15</td>\n",
       "      <td>0.607085</td>\n",
       "      <td>1</td>\n",
       "      <td>0.71</td>\n",
       "    </tr>\n",
       "    <tr>\n",
       "      <th>193</th>\n",
       "      <td>2421</td>\n",
       "      <td>653</td>\n",
       "      <td>Germany</td>\n",
       "      <td>Female</td>\n",
       "      <td>25</td>\n",
       "      <td>2</td>\n",
       "      <td>158266.42</td>\n",
       "      <td>3</td>\n",
       "      <td>1</td>\n",
       "      <td>1</td>\n",
       "      <td>199357.24</td>\n",
       "      <td>2.95</td>\n",
       "      <td>0.793883</td>\n",
       "      <td>1</td>\n",
       "      <td>0.71</td>\n",
       "    </tr>\n",
       "    <tr>\n",
       "      <th>194</th>\n",
       "      <td>6892</td>\n",
       "      <td>649</td>\n",
       "      <td>France</td>\n",
       "      <td>Female</td>\n",
       "      <td>56</td>\n",
       "      <td>8</td>\n",
       "      <td>156974.26</td>\n",
       "      <td>1</td>\n",
       "      <td>1</td>\n",
       "      <td>0</td>\n",
       "      <td>89405.26</td>\n",
       "      <td>0.55</td>\n",
       "      <td>1.755761</td>\n",
       "      <td>1</td>\n",
       "      <td>0.71</td>\n",
       "    </tr>\n",
       "    <tr>\n",
       "      <th>195</th>\n",
       "      <td>5105</td>\n",
       "      <td>671</td>\n",
       "      <td>Germany</td>\n",
       "      <td>Male</td>\n",
       "      <td>51</td>\n",
       "      <td>3</td>\n",
       "      <td>96891.46</td>\n",
       "      <td>1</td>\n",
       "      <td>1</td>\n",
       "      <td>0</td>\n",
       "      <td>176403.33</td>\n",
       "      <td>0.05</td>\n",
       "      <td>0.549261</td>\n",
       "      <td>1</td>\n",
       "      <td>0.71</td>\n",
       "    </tr>\n",
       "  </tbody>\n",
       "</table>\n",
       "<p>196 rows × 15 columns</p>\n",
       "</div>"
      ],
      "text/plain": [
       "     index  credit_score  country  gender  age  tenure    balance  \\\n",
       "0     4064           626  Germany    Male   39      10  132287.92   \n",
       "1      871           629  Germany  Female   45       7  129818.39   \n",
       "2     4671           616  Germany  Female   45       6  128352.59   \n",
       "3     1657           704  Germany  Female   54       6  133656.91   \n",
       "4     6782           585   France    Male   55      10  106415.57   \n",
       "..     ...           ...      ...     ...  ...     ...        ...   \n",
       "191   4555           688    Spain  Female   35       6       0.00   \n",
       "192   3006           747   France  Female   45       1  114959.12   \n",
       "193   2421           653  Germany  Female   25       2  158266.42   \n",
       "194   6892           649   France  Female   56       8  156974.26   \n",
       "195   5105           671  Germany    Male   51       3   96891.46   \n",
       "\n",
       "     products_number  credit_card  active_member  estimated_salary  \\\n",
       "0                  3            1              1          51467.92   \n",
       "1                  3            1              0           9217.55   \n",
       "2                  3            1              1         144000.59   \n",
       "3                  3            1              0         145071.33   \n",
       "4                  3            1              1         122960.98   \n",
       "..               ...          ...            ...               ...   \n",
       "191                1            1              0          25488.43   \n",
       "192                1            1              0         189362.39   \n",
       "193                3            1              1         199357.24   \n",
       "194                1            1              0          89405.26   \n",
       "195                1            1              0         176403.33   \n",
       "\n",
       "     engagement_score  balance_salary_ratio  predictions  pred_probability  \n",
       "0                3.75              2.570299            1              1.00  \n",
       "1                2.45             14.083828            1              1.00  \n",
       "2                3.35              0.891334            1              0.99  \n",
       "3                2.35              0.921319            1              0.99  \n",
       "4                3.75              0.865442            1              0.98  \n",
       "..                ...                   ...          ...               ...  \n",
       "191              0.35              0.000000            1              0.71  \n",
       "192             -0.15              0.607085            1              0.71  \n",
       "193              2.95              0.793883            1              0.71  \n",
       "194              0.55              1.755761            1              0.71  \n",
       "195              0.05              0.549261            1              0.71  \n",
       "\n",
       "[196 rows x 15 columns]"
      ]
     },
     "execution_count": 43,
     "metadata": {},
     "output_type": "execute_result"
    }
   ],
   "source": [
    "# Get a list of customers that are most likely to churn (probability > 0.7)\n",
    "high_churn_list = df_test[df_test.pred_probability > 0.7].sort_values(by=['pred_probability'], \n",
    "                                                                      ascending=False).reset_index()\n",
    "high_churn_list"
   ]
  },
  {
   "attachments": {},
   "cell_type": "markdown",
   "metadata": {},
   "source": [
    "This high churn list can be used by the bank to target these customers with an ad campaign to try to get them to stay with the bank. The bank can also use this list to try to identify what these customers have in common and try to improve their services to prevent future customers from churning. A prioritization matrix can be defined based on business requirements, which will help the bank decide which customers to target first. For example, the bank might want to target customers who have a high balance, high estimated salary, and are active members first, as they are more likely to maximize ROI.\n",
    "\n",
    "From a quick inspection, we can see that the customers in the high churn list seem to be from Germany, are female, are older, have a higher tenure, have a higher balance, and are not active members. This is consistent with our findings from the EDA. These customers should be targeted first and more investigations should be done on this list to extract more insights for marketing campaigns."
   ]
  },
  {
   "attachments": {},
   "cell_type": "markdown",
   "metadata": {},
   "source": [
    "# Business Recommendations\n",
    "\n",
    "On top of analyzing the list of customers that have a high probability of leaving the bank, I would recommend the following actions to increase customer retention:\n",
    "1. **Address Gender Disparity:** The churn rate for female customers is almost 10% higher than male customers, which suggests that the banks services may not be meeting their needs effectively. Consider conducting targeted surveys or focus groups to understand the specific pain points for female customers and address them proactively. This could involve reviewing products, services, and communication strategies to ensure they are inclusive and appealing to all genders.\n",
    "2. **Focus on Middle-Aged to Older Customers:** The data shows that this age group, particularly those aged 51–60, have a much higher churn rate, lower credit scores, and higher balances. Consider introducing tailored financial products and advisory services for this age group, focusing on credit improvement and wealth management. Additionally, developing competitive retirement packages that offer attractive interest rates and benefits could encourage this demographic to stay with the bank. This could include lower fees, financial advisory services, and other perks tailored to retirees and customers preparing for retirement. \n",
    "3. **Reward Engaged Customers:** The data shows customers with a high engagement score have a higher churn rate, suggesting that their expectations are not being met or they are finding better offers elsewhere. Consider implementing a loyalty program that offers tangible benefits to highly-engaged customers such as better interest rates, lower fees, or exclusive services. A competitive analysis and regularly monitoring the market to understand what competitors are offering will help identify which offers would be most attractive."
   ]
  },
  {
   "attachments": {},
   "cell_type": "markdown",
   "metadata": {},
   "source": [
    "# Next Steps\n",
    "\n",
    "In this project, we have done extensive EDA to understand the data and identify patterns. We have also built some models to predict which customers are likely to churn and generated a list of customers that are likely to churn. However, there are still some things we can do. Some next steps that would be worth exploring are:\n",
    "- Investigate the high churn list to extract more insights and generate business recommendations.\n",
    "- Perform hyperparameter tuning to improve the performance of the models we have tried.\n",
    "- Instead of using only a training and test set, we can use a training, validation, and test set to get a better idea of how well the model performs on unseen data. This should be the first thing we do next so we can get a better idea of how well the model performs.\n",
    "- Try to engineer more features to improve the performance of the models.\n",
    "- Test and evaluate different models to see if there is a better model we can use.\n"
   ]
  },
  {
   "attachments": {},
   "cell_type": "markdown",
   "metadata": {},
   "source": [
    "# References\n",
    "\n",
    "“Bank Customer Churn Dataset.” www.kaggle.com, www.kaggle.com/datasets/gauravtopre/bank-customer-churn-dataset.\n",
    "\n",
    "Gardner, Jared. “Retail Banking Accelerator.” Qualtrics, 19 July 2019, www.qualtrics.com/marketplace/banking-customer-experience-program/#section3. Accessed 24 June 2023.\n",
    "\n",
    "Howarth, Josh . “Average Customer Retention by Industry (2022).” Exploding Topics, 6 July 2022, explodingtopics.com/blog/customer-retention-rates.\n",
    "\n",
    "Iskenderian, Mary Ellen. “Banks Are Leaving Women behind — and It’s Costing Them $700 Billion a Year.” Business Insider, www.businessinsider.com/gender-discrimination-finance-700-billion-banks-loans-accounts-women-2022-7. Accessed 24 June 2023."
   ]
  },
  {
   "attachments": {},
   "cell_type": "markdown",
   "metadata": {},
   "source": []
  }
 ],
 "metadata": {
  "kernelspec": {
   "display_name": "DS_env",
   "language": "python",
   "name": "python3"
  },
  "language_info": {
   "codemirror_mode": {
    "name": "ipython",
    "version": 3
   },
   "file_extension": ".py",
   "mimetype": "text/x-python",
   "name": "python",
   "nbconvert_exporter": "python",
   "pygments_lexer": "ipython3",
   "version": "3.11.4"
  },
  "orig_nbformat": 4
 },
 "nbformat": 4,
 "nbformat_minor": 2
}
